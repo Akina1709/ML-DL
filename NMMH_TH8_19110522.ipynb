{
  "nbformat": 4,
  "nbformat_minor": 0,
  "metadata": {
    "colab": {
      "provenance": [],
      "toc_visible": true
    },
    "kernelspec": {
      "name": "python3",
      "display_name": "Python 3"
    },
    "language_info": {
      "name": "python"
    }
  },
  "cells": [
    {
      "cell_type": "code",
      "execution_count": null,
      "metadata": {
        "id": "7IJMXcIqdu2c"
      },
      "outputs": [],
      "source": [
        "\"\"\"\n",
        "Ho va Ten: Bui Thi Thanh Xuan\n",
        "MSSV: 19110522\n",
        "\"\"\""
      ]
    },
    {
      "cell_type": "code",
      "source": [
        "#import thư viện\n",
        "from sklearn.model_selection import train_test_split\n",
        "from keras.layers import Input, Reshape, Flatten, Dense, MaxPooling2D, Dropout, Conv2D\n",
        "from keras.models import Model\n",
        "import keras\n",
        "import tensorflow as tf\n",
        "import numpy as np\n",
        "import matplotlib.pyplot as plt\n",
        "from tensorflow.keras.optimizers import Adam"
      ],
      "metadata": {
        "id": "PJP2hoqkeP4N"
      },
      "execution_count": null,
      "outputs": []
    },
    {
      "cell_type": "code",
      "source": [
        "#Kiểm tra version của keras\n",
        "keras.__version__"
      ],
      "metadata": {
        "colab": {
          "base_uri": "https://localhost:8080/",
          "height": 36
        },
        "id": "is33pblgeP1W",
        "outputId": "88e77337-9da0-4d01-be44-b3061574db5f"
      },
      "execution_count": null,
      "outputs": [
        {
          "output_type": "execute_result",
          "data": {
            "text/plain": [
              "'2.8.0'"
            ],
            "application/vnd.google.colaboratory.intrinsic+json": {
              "type": "string"
            }
          },
          "metadata": {},
          "execution_count": 3
        }
      ]
    },
    {
      "cell_type": "code",
      "source": [
        "# Tải dataset MNIST từ tensorflow\n",
        "## MNIST là bài toán dự đoán một ảnh thể hiện ký tự số nào (dùng ảnh trắng đen)\n",
        "## tải MNIST dataset từ keras\n",
        "\n",
        "(X_train, y_train), (X_test, y_test) = tf.keras.datasets.mnist.load_data()\n",
        "##resacle ảnh thành ảnh thực trong đoạn [0,1]\n",
        "X_train, X_test = X_train/255.0, X_test/255.0\n",
        "\n",
        "##in dataset\n",
        "print(X_train.shape, y_train.shape, X_test.shape, y_test.shape)\n",
        "print(\"Có 60000 ảnh dùng để train và valid, 10000 ảnh dùng để test\")\n",
        "print(\"Mỗi ảnh có một kênh màu, kích thước 28x28\")\n",
        "print()\n",
        "\n",
        "## in thử ảnh một ảnh\n",
        "print(\"Ảnh đầu tiên của tập train\")\n",
        "print(\"Label đầu tiên của tập train: \", y_train[0])\n",
        "plt.imshow(X_train[0], cmap='gray')\n",
        "plt.show()\n",
        "\n",
        "#Tách một phần tập train thành tập valid\n",
        "from sklearn.model_selection import train_test_split\n",
        "X_train, X_valid, y_train, y_valid = train_test_split(X_train, y_train, test_size=0.1) # Tách theo tỉ lệ validation/train=1/9"
      ],
      "metadata": {
        "colab": {
          "base_uri": "https://localhost:8080/",
          "height": 369
        },
        "id": "x9_wu74PePya",
        "outputId": "e653c40b-8ffc-4baa-ff75-14cd80c5e6d5"
      },
      "execution_count": null,
      "outputs": [
        {
          "output_type": "stream",
          "name": "stdout",
          "text": [
            "(60000, 28, 28) (60000,) (10000, 28, 28) (10000,)\n",
            "Có 60000 ảnh dùng để train và valid, 10000 ảnh dùng để test\n",
            "Mỗi ảnh có một kênh màu, kích thước 28x28\n",
            "\n",
            "Ảnh đầu tiên của tập train\n",
            "Label đầu tiên của tập train:  5\n"
          ]
        },
        {
          "output_type": "display_data",
          "data": {
            "text/plain": [
              "<Figure size 432x288 with 1 Axes>"
            ],
            "image/png": "[encoded data removed]"
          },
          "metadata": {
            "needs_background": "light"
          }
        }
      ]
    },
    {
      "cell_type": "markdown",
      "source": [
        "## **1. Tạo và huấn luyện mạng no-ron theo cấu trúc đã cho trên tập MNIST**"
      ],
      "metadata": {
        "id": "WshT-w1YiEHP"
      }
    },
    {
      "cell_type": "code",
      "source": [
        "def nnet(input_size = (28,28)):\n",
        "    \n",
        "    inputs = Input(shape=(input_size))\n",
        "    reshape_inputs = Reshape((28,28,1))(inputs)\n",
        "    flatten = Flatten()(inputs)\n",
        "\n",
        "    dense1 = Dense(units=200, activation='relu')(flatten)\n",
        "    dense2 = Dense(units=100, activation='relu')(dense1)\n",
        "    dense3 = Dense(units=50, activation='relu')(dense2)\n",
        "    dense4 = Dense(units=20, activation='relu')(dense3)\n",
        "    softmax = Dense(units=10, activation='softmax')(dense4)\n",
        "\n",
        "    model = Model(inputs=inputs, outputs=softmax)\n",
        "    return model"
      ],
      "metadata": {
        "id": "MfwiO2wEePvp"
      },
      "execution_count": null,
      "outputs": []
    },
    {
      "cell_type": "code",
      "source": [
        "model = nnet()\n",
        "model.compile(optimizer='adam',\n",
        "             loss=tf.keras.losses.sparse_categorical_crossentropy,\n",
        "             metrics=[\"accuracy\"])"
      ],
      "metadata": {
        "id": "g_nBbHtmePsN"
      },
      "execution_count": null,
      "outputs": []
    },
    {
      "cell_type": "code",
      "source": [
        "model.summary()"
      ],
      "metadata": {
        "colab": {
          "base_uri": "https://localhost:8080/"
        },
        "id": "b9gyblkfePpD",
        "outputId": "a0ff08e7-1ff8-489e-924b-3aacfdfccb25"
      },
      "execution_count": null,
      "outputs": [
        {
          "output_type": "stream",
          "name": "stdout",
          "text": [
            "Model: \"model\"\n",
            "_________________________________________________________________\n",
            " Layer (type)                Output Shape              Param #   \n",
            "=================================================================\n",
            " input_1 (InputLayer)        [(None, 28, 28)]          0         \n",
            "                                                                 \n",
            " flatten (Flatten)           (None, 784)               0         \n",
            "                                                                 \n",
            " dense (Dense)               (None, 200)               157000    \n",
            "                                                                 \n",
            " dense_1 (Dense)             (None, 100)               20100     \n",
            "                                                                 \n",
            " dense_2 (Dense)             (None, 50)                5050      \n",
            "                                                                 \n",
            " dense_3 (Dense)             (None, 20)                1020      \n",
            "                                                                 \n",
            " dense_4 (Dense)             (None, 10)                210       \n",
            "                                                                 \n",
            "=================================================================\n",
            "Total params: 183,380\n",
            "Trainable params: 183,380\n",
            "Non-trainable params: 0\n",
            "_________________________________________________________________\n"
          ]
        }
      ]
    },
    {
      "cell_type": "markdown",
      "source": [
        "## **2. Nêu cách tính số parameters sau mỗi layer**"
      ],
      "metadata": {
        "id": "kJeCOJDUi5Is"
      }
    },
    {
      "cell_type": "markdown",
      "source": [
        "Cách tính Param #: tổng số connections (paremeters) giữa các node ở lớp layer trước và hiện tại + số biases\n",
        "\n",
        "    dense = 784 (nodes) x 200 (nodes) + 200 (bias) = 157000\n",
        "\n",
        "    dense_1 = 200 (nodes) x 100 + 100 (bias) = 20100\n",
        "\n",
        "    dense_2 = 100 (nodes) x 50 + 50 (bias) = 5050\n",
        "\n",
        "    dense_3 = 50 (nodes) x 20 + 20 (bias) = 1020\n",
        "\n",
        "    dense_4 = 20 (nodes) x 10 + 10 (bias) = 210"
      ],
      "metadata": {
        "id": "w__RBd3Ii7eW"
      }
    },
    {
      "cell_type": "markdown",
      "source": [
        "## **3. Cấu trúc ở câu 1 có thể được áp dụng cho bài toán regression được không, nếu có thì phải thay đổi như thế nào?**"
      ],
      "metadata": {
        "id": "QkRPSWzXjXtj"
      }
    },
    {
      "cell_type": "markdown",
      "source": [
        "Có, cần thay đổi lớp Fully-connected layer cuối (dense_4) với số units=1 và activation='linear'."
      ],
      "metadata": {
        "id": "rM-PCIDyjeoZ"
      }
    },
    {
      "cell_type": "code",
      "source": [
        "# Training model\n",
        "num_epochs = 20\n",
        "batchsize = 100\n",
        "\n",
        "history = model.fit(X_train,y_train,\n",
        "                  epochs=num_epochs,\n",
        "                  batch_size=batchsize,\n",
        "                  validation_data=(X_valid,y_valid))"
      ],
      "metadata": {
        "colab": {
          "base_uri": "https://localhost:8080/"
        },
        "id": "4V8XHfcOePjF",
        "outputId": "b683ca3c-769c-4bda-9e0f-a0311e7bf276"
      },
      "execution_count": null,
      "outputs": [
        {
          "output_type": "stream",
          "name": "stdout",
          "text": [
            "Epoch 1/20\n",
            "540/540 [==============================] - 4s 6ms/step - loss: 0.3472 - accuracy: 0.8962 - val_loss: 0.1665 - val_accuracy: 0.9520\n",
            "Epoch 2/20\n",
            "540/540 [==============================] - 3s 6ms/step - loss: 0.1168 - accuracy: 0.9647 - val_loss: 0.1100 - val_accuracy: 0.9682\n",
            "Epoch 3/20\n",
            "540/540 [==============================] - 3s 6ms/step - loss: 0.0781 - accuracy: 0.9762 - val_loss: 0.0929 - val_accuracy: 0.9750\n",
            "Epoch 4/20\n",
            "540/540 [==============================] - 3s 6ms/step - loss: 0.0588 - accuracy: 0.9816 - val_loss: 0.1009 - val_accuracy: 0.9713\n",
            "Epoch 5/20\n",
            "540/540 [==============================] - 3s 6ms/step - loss: 0.0464 - accuracy: 0.9856 - val_loss: 0.0835 - val_accuracy: 0.9757\n",
            "Epoch 6/20\n",
            "540/540 [==============================] - 4s 8ms/step - loss: 0.0364 - accuracy: 0.9881 - val_loss: 0.0851 - val_accuracy: 0.9788\n",
            "Epoch 7/20\n",
            "540/540 [==============================] - 3s 6ms/step - loss: 0.0303 - accuracy: 0.9903 - val_loss: 0.0993 - val_accuracy: 0.9745\n",
            "Epoch 8/20\n",
            "540/540 [==============================] - 3s 6ms/step - loss: 0.0265 - accuracy: 0.9916 - val_loss: 0.0976 - val_accuracy: 0.9763\n",
            "Epoch 9/20\n",
            "540/540 [==============================] - 3s 6ms/step - loss: 0.0222 - accuracy: 0.9928 - val_loss: 0.1101 - val_accuracy: 0.9743\n",
            "Epoch 10/20\n",
            "540/540 [==============================] - 4s 7ms/step - loss: 0.0215 - accuracy: 0.9929 - val_loss: 0.0958 - val_accuracy: 0.9772\n",
            "Epoch 11/20\n",
            "540/540 [==============================] - 3s 6ms/step - loss: 0.0192 - accuracy: 0.9940 - val_loss: 0.0944 - val_accuracy: 0.9788\n",
            "Epoch 12/20\n",
            "540/540 [==============================] - 3s 6ms/step - loss: 0.0145 - accuracy: 0.9950 - val_loss: 0.1042 - val_accuracy: 0.9785\n",
            "Epoch 13/20\n",
            "540/540 [==============================] - 3s 6ms/step - loss: 0.0162 - accuracy: 0.9943 - val_loss: 0.0967 - val_accuracy: 0.9778\n",
            "Epoch 14/20\n",
            "540/540 [==============================] - 3s 6ms/step - loss: 0.0112 - accuracy: 0.9960 - val_loss: 0.1175 - val_accuracy: 0.9778\n",
            "Epoch 15/20\n",
            "540/540 [==============================] - 3s 6ms/step - loss: 0.0166 - accuracy: 0.9943 - val_loss: 0.1001 - val_accuracy: 0.9785\n",
            "Epoch 16/20\n",
            "540/540 [==============================] - 3s 6ms/step - loss: 0.0101 - accuracy: 0.9968 - val_loss: 0.1214 - val_accuracy: 0.9765\n",
            "Epoch 17/20\n",
            "540/540 [==============================] - 3s 6ms/step - loss: 0.0089 - accuracy: 0.9970 - val_loss: 0.1363 - val_accuracy: 0.9772\n",
            "Epoch 18/20\n",
            "540/540 [==============================] - 4s 7ms/step - loss: 0.0123 - accuracy: 0.9961 - val_loss: 0.0983 - val_accuracy: 0.9802\n",
            "Epoch 19/20\n",
            "540/540 [==============================] - 4s 7ms/step - loss: 0.0129 - accuracy: 0.9956 - val_loss: 0.1091 - val_accuracy: 0.9787\n",
            "Epoch 20/20\n",
            "540/540 [==============================] - 4s 7ms/step - loss: 0.0106 - accuracy: 0.9966 - val_loss: 0.1195 - val_accuracy: 0.9777\n"
          ]
        }
      ]
    },
    {
      "cell_type": "code",
      "source": [
        "# Prediction \n",
        "test_loss, test_acc = model.evaluate(X_test, y_test)\n",
        "print(\"Loss trên tập test: \", test_loss,\" Accuracy trên tập test: \", test_acc)"
      ],
      "metadata": {
        "colab": {
          "base_uri": "https://localhost:8080/"
        },
        "id": "ukznJ00nePcq",
        "outputId": "462a860c-f1a5-4b37-c0d6-45c04cc0ab8d"
      },
      "execution_count": null,
      "outputs": [
        {
          "output_type": "stream",
          "name": "stdout",
          "text": [
            "313/313 [==============================] - 1s 3ms/step - loss: 0.1004 - accuracy: 0.9801\n",
            "Loss trên tập test:  0.10041283816099167  Accuracy trên tập test:  0.9800999760627747\n"
          ]
        }
      ]
    },
    {
      "cell_type": "markdown",
      "source": [
        "## **Câu 4: Thiết kế một mạng Convolution 2D cho trước**"
      ],
      "metadata": {
        "id": "5Yg8jlbfjq5E"
      }
    },
    {
      "cell_type": "code",
      "source": [
        "def conv2D(input_size=(28,28)):\n",
        "    inputs = Input(shape=input_size)\n",
        "\n",
        "    reshape_input = Reshape((28,28,1))(inputs)\n",
        "\n",
        "    conv1 = Conv2D(20, 5, activation = 'relu', padding='same')(reshape_input)\n",
        "\n",
        "    pool1 = MaxPooling2D(pool_size=(2, 2))(conv1)\n",
        "\n",
        "    conv2 = Conv2D(20, 5, activation = 'relu')(pool1)\n",
        "\n",
        "    pool2 = MaxPooling2D(pool_size=(2, 2))(conv2)\n",
        "\n",
        "    flatten = Flatten()(pool2)\n",
        "\n",
        "    dense1 = Dense(units=40, activation='relu')(flatten)\n",
        "\n",
        "    dense2 = Dense(units=20, activation='relu')(dense1)\n",
        "\n",
        "    softmax = Dense(units=10, activation='softmax')(dense2)\n",
        "\n",
        "    model = Model(inputs=inputs, outputs=softmax)\n",
        "    \n",
        "    return model"
      ],
      "metadata": {
        "id": "CPBdqVleePZ5"
      },
      "execution_count": null,
      "outputs": []
    },
    {
      "cell_type": "code",
      "source": [
        "# Model\n",
        "model = conv2D()\n",
        "\n",
        "# Model architecture\n",
        "model.summary()"
      ],
      "metadata": {
        "colab": {
          "base_uri": "https://localhost:8080/"
        },
        "id": "W0a6_TwmePW_",
        "outputId": "410eec67-8778-45c7-a9d0-8cd2be3a5bd6"
      },
      "execution_count": null,
      "outputs": [
        {
          "output_type": "stream",
          "name": "stdout",
          "text": [
            "Model: \"model_1\"\n",
            "_________________________________________________________________\n",
            " Layer (type)                Output Shape              Param #   \n",
            "=================================================================\n",
            " input_2 (InputLayer)        [(None, 28, 28)]          0         \n",
            "                                                                 \n",
            " reshape_1 (Reshape)         (None, 28, 28, 1)         0         \n",
            "                                                                 \n",
            " conv2d (Conv2D)             (None, 28, 28, 20)        520       \n",
            "                                                                 \n",
            " max_pooling2d (MaxPooling2D  (None, 14, 14, 20)       0         \n",
            " )                                                               \n",
            "                                                                 \n",
            " conv2d_1 (Conv2D)           (None, 10, 10, 20)        10020     \n",
            "                                                                 \n",
            " max_pooling2d_1 (MaxPooling  (None, 5, 5, 20)         0         \n",
            " 2D)                                                             \n",
            "                                                                 \n",
            " flatten_1 (Flatten)         (None, 500)               0         \n",
            "                                                                 \n",
            " dense_5 (Dense)             (None, 40)                20040     \n",
            "                                                                 \n",
            " dense_6 (Dense)             (None, 20)                820       \n",
            "                                                                 \n",
            " dense_7 (Dense)             (None, 10)                210       \n",
            "                                                                 \n",
            "=================================================================\n",
            "Total params: 31,610\n",
            "Trainable params: 31,610\n",
            "Non-trainable params: 0\n",
            "_________________________________________________________________\n"
          ]
        }
      ]
    }
  ]
}