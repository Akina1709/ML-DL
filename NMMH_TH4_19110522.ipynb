{
  "nbformat": 4,
  "nbformat_minor": 0,
  "metadata": {
    "colab": {
      "provenance": [],
      "toc_visible": true
    },
    "kernelspec": {
      "name": "python3",
      "display_name": "Python 3"
    },
    "language_info": {
      "name": "python"
    }
  },
  "cells": [
    {
      "cell_type": "code",
      "source": [
        "\"\"\"\n",
        "    Ho va Ten: Bui Thi Thanh Xuan\n",
        "    MSSV: 19110522\n",
        "\"\"\""
      ],
      "metadata": {
        "id": "oHellykFtJXB"
      },
      "execution_count": null,
      "outputs": []
    },
    {
      "cell_type": "code",
      "execution_count": null,
      "metadata": {
        "id": "N38v1waKReEA"
      },
      "outputs": [],
      "source": [
        "import pandas as pd\n",
        "import numpy as np\n",
        "import matplotlib.pyplot as plt\n",
        "from sklearn.metrics import accuracy_score\n",
        "from sklearn.preprocessing import LabelEncoder\n",
        "import seaborn as sns"
      ]
    },
    {
      "cell_type": "code",
      "source": [
        "df = pd.read_csv(\"https://raw.githubusercontent.com/huynhthanh98/ML/ML-2022/Lab04/lienminh.csv\")\n",
        "df.head(10)"
      ],
      "metadata": {
        "colab": {
          "base_uri": "https://localhost:8080/",
          "height": 363
        },
        "id": "gTMajUsHRirF",
        "outputId": "3d5befc2-6530-41a5-b8a0-04910dae6bbf"
      },
      "execution_count": null,
      "outputs": [
        {
          "output_type": "execute_result",
          "data": {
            "text/plain": [
              "   killsDiff  minionsKilledDiff  wardPlacedDiff firstBlood heralds dragons  \\\n",
              "0          3                 -2              13       blue    none    none   \n",
              "1          0                -66               0        red     red     red   \n",
              "2         -4                -17               0        red    none    blue   \n",
              "3         -1                -34              28        red    blue    none   \n",
              "4          0                -15              58        red    none     red   \n",
              "5          2                  4             -18        red    none    blue   \n",
              "6          1                 61             -39       blue    none    blue   \n",
              "7         -8                 52               1        red    none     red   \n",
              "8          0                -51               1        red     red     red   \n",
              "9         -1                -27              -3       blue    none    blue   \n",
              "\n",
              "  teamWins  \n",
              "0      red  \n",
              "1      red  \n",
              "2      red  \n",
              "3      red  \n",
              "4      red  \n",
              "5     blue  \n",
              "6     blue  \n",
              "7      red  \n",
              "8      red  \n",
              "9     blue  "
            ],
            "text/html": [
              "\n",
              "  <div id=\"df-15abd651-6700-4e13-bf65-af3d90040075\">\n",
              "    <div class=\"colab-df-container\">\n",
              "      <div>\n",
              "<style scoped>\n",
              "    .dataframe tbody tr th:only-of-type {\n",
              "        vertical-align: middle;\n",
              "    }\n",
              "\n",
              "    .dataframe tbody tr th {\n",
              "        vertical-align: top;\n",
              "    }\n",
              "\n",
              "    .dataframe thead th {\n",
              "        text-align: right;\n",
              "    }\n",
              "</style>\n",
              "<table border=\"1\" class=\"dataframe\">\n",
              "  <thead>\n",
              "    <tr style=\"text-align: right;\">\n",
              "      <th></th>\n",
              "      <th>killsDiff</th>\n",
              "      <th>minionsKilledDiff</th>\n",
              "      <th>wardPlacedDiff</th>\n",
              "      <th>firstBlood</th>\n",
              "      <th>heralds</th>\n",
              "      <th>dragons</th>\n",
              "      <th>teamWins</th>\n",
              "    </tr>\n",
              "  </thead>\n",
              "  <tbody>\n",
              "    <tr>\n",
              "      <th>0</th>\n",
              "      <td>3</td>\n",
              "      <td>-2</td>\n",
              "      <td>13</td>\n",
              "      <td>blue</td>\n",
              "      <td>none</td>\n",
              "      <td>none</td>\n",
              "      <td>red</td>\n",
              "    </tr>\n",
              "    <tr>\n",
              "      <th>1</th>\n",
              "      <td>0</td>\n",
              "      <td>-66</td>\n",
              "      <td>0</td>\n",
              "      <td>red</td>\n",
              "      <td>red</td>\n",
              "      <td>red</td>\n",
              "      <td>red</td>\n",
              "    </tr>\n",
              "    <tr>\n",
              "      <th>2</th>\n",
              "      <td>-4</td>\n",
              "      <td>-17</td>\n",
              "      <td>0</td>\n",
              "      <td>red</td>\n",
              "      <td>none</td>\n",
              "      <td>blue</td>\n",
              "      <td>red</td>\n",
              "    </tr>\n",
              "    <tr>\n",
              "      <th>3</th>\n",
              "      <td>-1</td>\n",
              "      <td>-34</td>\n",
              "      <td>28</td>\n",
              "      <td>red</td>\n",
              "      <td>blue</td>\n",
              "      <td>none</td>\n",
              "      <td>red</td>\n",
              "    </tr>\n",
              "    <tr>\n",
              "      <th>4</th>\n",
              "      <td>0</td>\n",
              "      <td>-15</td>\n",
              "      <td>58</td>\n",
              "      <td>red</td>\n",
              "      <td>none</td>\n",
              "      <td>red</td>\n",
              "      <td>red</td>\n",
              "    </tr>\n",
              "    <tr>\n",
              "      <th>5</th>\n",
              "      <td>2</td>\n",
              "      <td>4</td>\n",
              "      <td>-18</td>\n",
              "      <td>red</td>\n",
              "      <td>none</td>\n",
              "      <td>blue</td>\n",
              "      <td>blue</td>\n",
              "    </tr>\n",
              "    <tr>\n",
              "      <th>6</th>\n",
              "      <td>1</td>\n",
              "      <td>61</td>\n",
              "      <td>-39</td>\n",
              "      <td>blue</td>\n",
              "      <td>none</td>\n",
              "      <td>blue</td>\n",
              "      <td>blue</td>\n",
              "    </tr>\n",
              "    <tr>\n",
              "      <th>7</th>\n",
              "      <td>-8</td>\n",
              "      <td>52</td>\n",
              "      <td>1</td>\n",
              "      <td>red</td>\n",
              "      <td>none</td>\n",
              "      <td>red</td>\n",
              "      <td>red</td>\n",
              "    </tr>\n",
              "    <tr>\n",
              "      <th>8</th>\n",
              "      <td>0</td>\n",
              "      <td>-51</td>\n",
              "      <td>1</td>\n",
              "      <td>red</td>\n",
              "      <td>red</td>\n",
              "      <td>red</td>\n",
              "      <td>red</td>\n",
              "    </tr>\n",
              "    <tr>\n",
              "      <th>9</th>\n",
              "      <td>-1</td>\n",
              "      <td>-27</td>\n",
              "      <td>-3</td>\n",
              "      <td>blue</td>\n",
              "      <td>none</td>\n",
              "      <td>blue</td>\n",
              "      <td>blue</td>\n",
              "    </tr>\n",
              "  </tbody>\n",
              "</table>\n",
              "</div>\n",
              "      <button class=\"colab-df-convert\" onclick=\"convertToInteractive('df-15abd651-6700-4e13-bf65-af3d90040075')\"\n",
              "              title=\"Convert this dataframe to an interactive table.\"\n",
              "              style=\"display:none;\">\n",
              "        \n",
              "  <svg xmlns=\"http://www.w3.org/2000/svg\" height=\"24px\"viewBox=\"0 0 24 24\"\n",
              "       width=\"24px\">\n",
              "    <path d=\"M0 0h24v24H0V0z\" fill=\"none\"/>\n",
              "    <path d=\"M18.56 5.44l.94 2.06.94-2.06 2.06-.94-2.06-.94-.94-2.06-.94 2.06-2.06.94zm-11 1L8.5 8.5l.94-2.06 2.06-.94-2.06-.94L8.5 2.5l-.94 2.06-2.06.94zm10 10l.94 2.06.94-2.06 2.06-.94-2.06-.94-.94-2.06-.94 2.06-2.06.94z\"/><path d=\"M17.41 7.96l-1.37-1.37c-.4-.4-.92-.59-1.43-.59-.52 0-1.04.2-1.43.59L10.3 9.45l-7.72 7.72c-.78.78-.78 2.05 0 2.83L4 21.41c.39.39.9.59 1.41.59.51 0 1.02-.2 1.41-.59l7.78-7.78 2.81-2.81c.8-.78.8-2.07 0-2.86zM5.41 20L4 18.59l7.72-7.72 1.47 1.35L5.41 20z\"/>\n",
              "  </svg>\n",
              "      </button>\n",
              "      \n",
              "  <style>\n",
              "    .colab-df-container {\n",
              "      display:flex;\n",
              "      flex-wrap:wrap;\n",
              "      gap: 12px;\n",
              "    }\n",
              "\n",
              "    .colab-df-convert {\n",
              "      background-color: #E8F0FE;\n",
              "      border: none;\n",
              "      border-radius: 50%;\n",
              "      cursor: pointer;\n",
              "      display: none;\n",
              "      fill: #1967D2;\n",
              "      height: 32px;\n",
              "      padding: 0 0 0 0;\n",
              "      width: 32px;\n",
              "    }\n",
              "\n",
              "    .colab-df-convert:hover {\n",
              "      background-color: #E2EBFA;\n",
              "      box-shadow: 0px 1px 2px rgba(60, 64, 67, 0.3), 0px 1px 3px 1px rgba(60, 64, 67, 0.15);\n",
              "      fill: #174EA6;\n",
              "    }\n",
              "\n",
              "    [theme=dark] .colab-df-convert {\n",
              "      background-color: #3B4455;\n",
              "      fill: #D2E3FC;\n",
              "    }\n",
              "\n",
              "    [theme=dark] .colab-df-convert:hover {\n",
              "      background-color: #434B5C;\n",
              "      box-shadow: 0px 1px 3px 1px rgba(0, 0, 0, 0.15);\n",
              "      filter: drop-shadow(0px 1px 2px rgba(0, 0, 0, 0.3));\n",
              "      fill: #FFFFFF;\n",
              "    }\n",
              "  </style>\n",
              "\n",
              "      <script>\n",
              "        const buttonEl =\n",
              "          document.querySelector('#df-15abd651-6700-4e13-bf65-af3d90040075 button.colab-df-convert');\n",
              "        buttonEl.style.display =\n",
              "          google.colab.kernel.accessAllowed ? 'block' : 'none';\n",
              "\n",
              "        async function convertToInteractive(key) {\n",
              "          const element = document.querySelector('#df-15abd651-6700-4e13-bf65-af3d90040075');\n",
              "          const dataTable =\n",
              "            await google.colab.kernel.invokeFunction('convertToInteractive',\n",
              "                                                     [key], {});\n",
              "          if (!dataTable) return;\n",
              "\n",
              "          const docLinkHtml = 'Like what you see? Visit the ' +\n",
              "            '<a target=\"_blank\" href=https://colab.research.google.com/notebooks/data_table.ipynb>data table notebook</a>'\n",
              "            + ' to learn more about interactive tables.';\n",
              "          element.innerHTML = '';\n",
              "          dataTable['output_type'] = 'display_data';\n",
              "          await google.colab.output.renderOutput(dataTable, element);\n",
              "          const docLink = document.createElement('div');\n",
              "          docLink.innerHTML = docLinkHtml;\n",
              "          element.appendChild(docLink);\n",
              "        }\n",
              "      </script>\n",
              "    </div>\n",
              "  </div>\n",
              "  "
            ]
          },
          "metadata": {},
          "execution_count": 2
        }
      ]
    },
    {
      "cell_type": "markdown",
      "source": [
        "# Gaussian Naive Bayes Classifier"
      ],
      "metadata": {
        "id": "f7aBDvDPxgNb"
      }
    },
    {
      "cell_type": "code",
      "source": [
        "def cal_prior(y_train,classes):\n",
        "    '''\n",
        "    y_train: (N,)\n",
        "    classes: array([0,1])\n",
        "    '''\n",
        "    #classes = np.unique(y_train)\n",
        "    prior = []\n",
        "    for c in classes:\n",
        "        prior.append(np.sum(y_train==c)/len(y_train))\n",
        "    return prior"
      ],
      "metadata": {
        "id": "iIEmLhUtRid_"
      },
      "execution_count": null,
      "outputs": []
    },
    {
      "cell_type": "code",
      "source": [
        "def normal(x, mean, std):\n",
        "        return (1.0/(np.sqrt(2*np.pi)*std))*np.exp((-(x-mean)**2)/(2*std**2))"
      ],
      "metadata": {
        "id": "B0f1HtKnX6_t"
      },
      "execution_count": null,
      "outputs": []
    },
    {
      "cell_type": "code",
      "source": [
        "def Gaussian_NB(X_train,y_train):\n",
        "    '''\n",
        "        Hàm giải bài toán Gaussian Naive Bayes\n",
        "        ---------------------------\n",
        "        Tham số:\n",
        "            X_train: là ma trận (N,3) dạng numerical\n",
        "            y_train: label của bài toán dạng numerical\n",
        "        ---------------------------\n",
        "        Trả về:\n",
        "            Y_pred: chứa các label được dự đoán dạng numerical\n",
        "    '''\n",
        "\n",
        "    classes = np.unique(y_train)\n",
        "\n",
        "    # Tính XS tiên nghiệm\n",
        "    prior = cal_prior(y_train,classes)\n",
        "\n",
        "    #Tính trung bình và phương sai\n",
        "    means = []\n",
        "    stds = []\n",
        "    for c in classes:\n",
        "        means.append(X_train[y_train== c].mean(axis = 0))\n",
        "        stds.append(X_train[y_train == c].std(axis = 0))\n",
        "    \n",
        "    #Tính likelihood\n",
        "    Y_pred = []\n",
        "   \n",
        "    for row in range(0,X_train.shape[0]):\n",
        "        likelihood = [1]*len(classes)\n",
        "        for l_abel in range(len(classes)):\n",
        "            for val in range(X_train.shape[1]):\n",
        "                likelihood[l_abel] *= normal(X_train[row][val],means[l_abel][val],stds[l_abel][val])\n",
        "\n",
        "        #Tính XS hậu nghiệm\n",
        "        post_prob = [1]*len(classes)\n",
        "\n",
        "        for j in range(len(classes)):\n",
        "            post_prob[j] = likelihood[j] * prior[j]\n",
        "    \n",
        "        Y_pred.append(np.argmax(post_prob))\n",
        "\n",
        "    return np.array(Y_pred) "
      ],
      "metadata": {
        "id": "kEFqGVW1Y_lB"
      },
      "execution_count": null,
      "outputs": []
    },
    {
      "cell_type": "code",
      "source": [
        "class MultiColumnLabelEncoder:\n",
        "    def __init__(self,columns = None):\n",
        "        self.columns = columns # array of column names to encode\n",
        "\n",
        "    def fit(self,X,y=None):\n",
        "        return self # not relevant here\n",
        "\n",
        "    def transform(self,X):\n",
        "        '''\n",
        "        Transforms columns of X specified in self.columns using\n",
        "        LabelEncoder(). If no columns specified, transforms all\n",
        "        columns in X.\n",
        "        '''\n",
        "        output = X.copy()\n",
        "        if self.columns is not None:\n",
        "            for col in self.columns:\n",
        "                output[col] = LabelEncoder().fit_transform(output[col])\n",
        "        else:\n",
        "            for colname,col in output.iteritems():\n",
        "                output[colname] = LabelEncoder().fit_transform(col)\n",
        "        return output\n",
        "\n",
        "    def fit_transform(self,X,y=None):\n",
        "        return self.fit(X,y).transform(X)"
      ],
      "metadata": {
        "id": "48v4r8elnopY"
      },
      "execution_count": null,
      "outputs": []
    },
    {
      "cell_type": "code",
      "source": [
        "df_enc = MultiColumnLabelEncoder(columns=['teamWins']).fit_transform(df)\n",
        "# Prepare data\n",
        "X_train_num = df_enc[['killsDiff', 'minionsKilledDiff', 'wardPlacedDiff']].values\n",
        "y_train_num = df_enc.teamWins.to_numpy()"
      ],
      "metadata": {
        "id": "EQVVDc7znv2u"
      },
      "execution_count": null,
      "outputs": []
    },
    {
      "cell_type": "code",
      "source": [
        "y_pred_num = Gaussian_NB(X_train_num,y_train_num)\n",
        "print(accuracy_score(y_pred_num, y_train_num))"
      ],
      "metadata": {
        "id": "4Opp2Sy7tcr3",
        "colab": {
          "base_uri": "https://localhost:8080/"
        },
        "outputId": "83e357e8-77e6-4257-8db3-3b082c45626a"
      },
      "execution_count": null,
      "outputs": [
        {
          "output_type": "stream",
          "name": "stdout",
          "text": [
            "0.7082700678206296\n"
          ]
        }
      ]
    },
    {
      "cell_type": "code",
      "source": [
        "from sklearn.naive_bayes import GaussianNB\n",
        "# Sklearn model\n",
        "clf = GaussianNB()\n",
        "clf.fit(X_train_num, y_train_num)\n",
        "#Accuracy\n",
        "print(clf.score(X_train_num, y_train_num))"
      ],
      "metadata": {
        "colab": {
          "base_uri": "https://localhost:8080/"
        },
        "id": "fZJFgtkHrss1",
        "outputId": "ddf3b484-c626-41c4-f59a-4b376d3f7b2e"
      },
      "execution_count": null,
      "outputs": [
        {
          "output_type": "stream",
          "name": "stdout",
          "text": [
            "0.7082700678206296\n"
          ]
        }
      ]
    },
    {
      "cell_type": "markdown",
      "source": [
        "# Categorical Naive Bayes Classifier"
      ],
      "metadata": {
        "id": "i05kyttziFVk"
      }
    },
    {
      "cell_type": "code",
      "source": [
        "def cal_prior(y_train,classes):\n",
        "    '''\n",
        "    y_train: (N,)\n",
        "    classes: array(['blue','red])\n",
        "    '''\n",
        "    #classes = np.unique(y_train)\n",
        "    prior = []\n",
        "    for c in range(len(classes)):\n",
        "        prior.append(np.sum(y_train == classes[c])/len(y_train))\n",
        "    return prior"
      ],
      "metadata": {
        "id": "FFWdu1dQiD4G"
      },
      "execution_count": null,
      "outputs": []
    },
    {
      "cell_type": "code",
      "source": [
        "def likelihood_cat(X_train,label,y,f):\n",
        "    return np.sum(X_train[y == label]==f)/(np.sum(y==label))"
      ],
      "metadata": {
        "id": "YcI5oj83iD1P"
      },
      "execution_count": null,
      "outputs": []
    },
    {
      "cell_type": "code",
      "source": [
        "def Categorical_NB(X,y):\n",
        "    '''\n",
        "        Hàm giải bài toán Categorical Naive Bayes\n",
        "        ---------------------------\n",
        "        Tham số:\n",
        "            X: là ma trận (N,3) dạng category\n",
        "            y: label của bài toán dạng category\n",
        "        ---------------------------\n",
        "        Trả về:\n",
        "            Y_pred: chứa các label được dự đoán dạng numerical\n",
        "    '''\n",
        "\n",
        "    classes = np.unique(y)\n",
        "\n",
        "    #Tính XS tiên nghiệm\n",
        "    prior = cal_prior(y,classes)\n",
        "\n",
        "    \n",
        "    #Tính likelihood\n",
        "    Y_pred = []\n",
        "   \n",
        "    for row in range(0,X.shape[0]):\n",
        "        likelihood = [1]*len(classes)\n",
        "        for l_abel in range(len(classes)):\n",
        "            for f in range(X.shape[1]):\n",
        "                likelihood[l_abel] *= likelihood_cat(X[:,f],classes[l_abel],y,X[row,:][f])\n",
        "        #Tính XS hậu nghiệm\n",
        "        post_prob = [1]*len(classes)\n",
        "\n",
        "        for j in range(len(classes)):\n",
        "            post_prob[j] = likelihood[j] * prior[j]\n",
        "    \n",
        "        Y_pred.append(np.argmax(post_prob))\n",
        "\n",
        "    return np.array(Y_pred) "
      ],
      "metadata": {
        "id": "q5ubnom4iDyZ"
      },
      "execution_count": null,
      "outputs": []
    },
    {
      "cell_type": "code",
      "source": [
        "# Prepare data\n",
        "X_train_cat = df[['firstBlood','heralds','dragons']].values\n",
        "y_train_cat = df.teamWins.to_numpy()"
      ],
      "metadata": {
        "id": "oWSLtLwtiDvh"
      },
      "execution_count": null,
      "outputs": []
    },
    {
      "cell_type": "code",
      "source": [
        "y_pred_cat = Categorical_NB(X_train_cat,y_train_cat)\n",
        "print(accuracy_score(y_pred_cat,y_train_num)) #Truyền y_train_num vì y_pred_cat đang ở dạng numerical "
      ],
      "metadata": {
        "id": "RuG6A0c9iDnF",
        "colab": {
          "base_uri": "https://localhost:8080/"
        },
        "outputId": "b13dd719-66f1-4116-ce87-7053b9b4bbcf"
      },
      "execution_count": null,
      "outputs": [
        {
          "output_type": "stream",
          "name": "stdout",
          "text": [
            "0.6298208320680231\n"
          ]
        }
      ]
    },
    {
      "cell_type": "code",
      "source": [
        "#Sklearn\n",
        "X_train_enc = MultiColumnLabelEncoder(columns = ['firstBlood','heralds','dragons']).fit_transform(df_enc)\n",
        "x_train_enc = X_train_enc[[\"firstBlood\",\"heralds\",\"dragons\"]].values\n",
        "from sklearn.naive_bayes import CategoricalNB\n",
        "model = CategoricalNB()\n",
        "model.fit(x_train_enc,y_train_num)\n",
        "print(model.score(x_train_enc,y_train_num))"
      ],
      "metadata": {
        "id": "yU44cVwOiDkI",
        "colab": {
          "base_uri": "https://localhost:8080/"
        },
        "outputId": "e67d1b38-99b5-4256-bf58-35f6ad1017ea"
      },
      "execution_count": null,
      "outputs": [
        {
          "output_type": "stream",
          "name": "stdout",
          "text": [
            "0.6298208320680231\n"
          ]
        }
      ]
    }
  ]
}