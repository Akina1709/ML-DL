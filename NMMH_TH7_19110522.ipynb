{
  "nbformat": 4,
  "nbformat_minor": 0,
  "metadata": {
    "colab": {
      "provenance": [],
      "toc_visible": true
    },
    "kernelspec": {
      "name": "python3",
      "display_name": "Python 3"
    },
    "language_info": {
      "name": "python"
    }
  },
  "cells": [
    {
      "cell_type": "code",
      "execution_count": null,
      "metadata": {
        "id": "gs25Qz8eIaP7"
      },
      "outputs": [],
      "source": [
        "\"\"\"\n",
        "    Ho va Ten: Bui Thi Thanh Xuan\n",
        "    MSSV: 19110522\n",
        "\"\"\""
      ]
    },
    {
      "cell_type": "code",
      "source": [
        "import matplotlib.pyplot as plt\n",
        "import numpy as np\n",
        "import os\n",
        "import warnings\n",
        "\n",
        "from sklearn import svm\n",
        "from sklearn.svm import SVC\n",
        "\n",
        "warnings.filterwarnings('ignore')"
      ],
      "metadata": {
        "id": "xYaFYMcrI7kO"
      },
      "execution_count": null,
      "outputs": []
    },
    {
      "cell_type": "code",
      "source": [
        "#Đọc file data_3.txt\n",
        "data_3 = np.loadtxt(\"https://raw.githubusercontent.com/huynhthanh98/ML/ML-2022/lab-07/data_3.txt\")\n",
        "\n",
        "# Tạo training set x và label y\n",
        "X_3 = data_3[:,0:2]\n",
        "y_3 = data_3[:,2]"
      ],
      "metadata": {
        "id": "tpCCnTgTIxOi"
      },
      "execution_count": null,
      "outputs": []
    },
    {
      "cell_type": "code",
      "source": [
        "#Đọc file data_3.txt\n",
        "data_4 = np.loadtxt(\"https://raw.githubusercontent.com/huynhthanh98/ML/ML-2022/lab-07/data_4.txt\")\n",
        "\n",
        "# Tạo training set x và label y\n",
        "X_4 = data_4[:,0:2]\n",
        "y_4 = data_4[:,2]"
      ],
      "metadata": {
        "id": "XdzKGnoGIxC8"
      },
      "execution_count": null,
      "outputs": []
    },
    {
      "cell_type": "code",
      "source": [
        "def display_data_and_boundary(x,y,pred_fn):  \n",
        "    # Determine the x1- and x2- limits of the plot\n",
        "    x1min = min(x[:,0]) - 1\n",
        "    x1max = max(x[:,0]) + 1\n",
        "    x2min = min(x[:,1]) - 1\n",
        "    x2max = max(x[:,1]) + 1\n",
        "    plt.xlim(x1min,x1max)\n",
        "    plt.ylim(x2min,x2max)\n",
        "    # Plot the data points\n",
        "    k = int(max(y)) + 1\n",
        "  \n",
        "    cols = ['ro', 'k^', 'b*','gx']\n",
        "    \n",
        "    for label in range(k):\n",
        "        plt.plot(x[(y==label),0], x[(y==label),1], cols[label],  markersize=8)\n",
        "        \n",
        "    # Construct a grid of points at which to evaluate the classifier\n",
        "    grid_spacing = 0.05\n",
        "    xx1, xx2 = np.meshgrid(np.arange(x1min, x1max, grid_spacing), np.arange(x2min, x2max, grid_spacing))\n",
        "    grid = np.c_[xx1.ravel(), xx2.ravel()]\n",
        "    Z = np.array([pred_fn(pt) for pt in grid])\n",
        "    # Show the classifier's boundary using a color plot\n",
        "    Z = Z.reshape(xx1.shape)\n",
        "    plt.pcolormesh(xx1, xx2, Z, cmap=plt.cm.Pastel1, vmin=0, vmax=k)\n",
        "    plt.show()"
      ],
      "metadata": {
        "id": "OSzLUL4DMKeG"
      },
      "execution_count": null,
      "outputs": []
    },
    {
      "cell_type": "markdown",
      "source": [
        "## **1. Thử chạy SVM trên 2 files data_3.txt và data_4.txt với C=[0.1, 1.0, 10.0, 100.0]**"
      ],
      "metadata": {
        "id": "tdx2kyilLVQj"
      }
    },
    {
      "cell_type": "markdown",
      "source": [
        "Lưu ý đối với việc dùng các kernels như linear, polynomial ta chỉ cần quan tâm đến tham số C. Còn kernel rbf ta sẽ quan tâm thêm đến tham số.\n",
        "\n",
        "Do lưu ý này, nên chỉ dùng kernel linear với các C khác nhau trên data_3 và data_4. Còn dùng kernel rbf với các gamma khác nhau nhưng cùng một C = 1 trên data_3 và data_4."
      ],
      "metadata": {
        "id": "n0Kw2GVOxhbt"
      }
    },
    {
      "cell_type": "markdown",
      "source": [
        "### SVM với data_3 với kernel linear"
      ],
      "metadata": {
        "id": "QtKfxvz7LpEt"
      }
    },
    {
      "cell_type": "code",
      "source": [
        "# Train SVM với kernel linear với C = 0.1\n",
        "clf_31 = SVC(C = 0.1,kernel=\"linear\")\n",
        "clf_31.fit(X_3,y_3)\n",
        "pred_31 = lambda p: clf_31.predict(p.reshape(1,-1))\n",
        "display_data_and_boundary(X_3,y_3,pred_31)"
      ],
      "metadata": {
        "colab": {
          "base_uri": "https://localhost:8080/",
          "height": 265
        },
        "id": "Tl4NYvVbIw8L",
        "outputId": "c7d3eb95-a2a7-4e2e-80d1-922fb263a31f"
      },
      "execution_count": null,
      "outputs": [
        {
          "output_type": "display_data",
          "data": {
            "text/plain": [
              "<Figure size 432x288 with 1 Axes>"
            ],
            "image/png": "[encoded data removed]"
          },
          "metadata": {
            "needs_background": "light"
          }
        }
      ]
    },
    {
      "cell_type": "code",
      "source": [
        "# Train SVM với kernel linear với C = 1.0\n",
        "clf_32 = SVC(C = 1.0,kernel=\"linear\")\n",
        "clf_32.fit(X_3,y_3)\n",
        "pred_32 = lambda p: clf_32.predict(p.reshape(1,-1))\n",
        "display_data_and_boundary(X_3,y_3,pred_32)"
      ],
      "metadata": {
        "colab": {
          "base_uri": "https://localhost:8080/",
          "height": 265
        },
        "id": "SNlOp9WCSVuH",
        "outputId": "3efdac97-ea8f-40b4-8624-c009918497a7"
      },
      "execution_count": null,
      "outputs": [
        {
          "output_type": "display_data",
          "data": {
            "text/plain": [
              "<Figure size 432x288 with 1 Axes>"
            ],
            "image/png": "[encoded data removed]"
          },
          "metadata": {
            "needs_background": "light"
          }
        }
      ]
    },
    {
      "cell_type": "code",
      "source": [
        "# Train SVM với kernel linear với C = 10.0\n",
        "clf_33 = SVC(C = 10.0,kernel=\"linear\")\n",
        "clf_33.fit(X_3,y_3)\n",
        "pred_33 = lambda p: clf_33.predict(p.reshape(1,-1))\n",
        "display_data_and_boundary(X_3,y_3,pred_33)"
      ],
      "metadata": {
        "colab": {
          "base_uri": "https://localhost:8080/",
          "height": 265
        },
        "id": "k2gsfEaFSl3_",
        "outputId": "55bcc031-29a5-429a-b848-ea799c15907a"
      },
      "execution_count": null,
      "outputs": [
        {
          "output_type": "display_data",
          "data": {
            "text/plain": [
              "<Figure size 432x288 with 1 Axes>"
            ],
            "image/png": "[encoded data removed]"
          },
          "metadata": {
            "needs_background": "light"
          }
        }
      ]
    },
    {
      "cell_type": "code",
      "source": [
        "# Train SVM với kernel linear với C = 100.0\n",
        "clf_34 = SVC(C = 100.0,kernel=\"linear\")\n",
        "clf_34.fit(X_3,y_3)\n",
        "pred_34 = lambda p: clf_34.predict(p.reshape(1,-1))\n",
        "display_data_and_boundary(X_3,y_3,pred_34)"
      ],
      "metadata": {
        "colab": {
          "base_uri": "https://localhost:8080/",
          "height": 265
        },
        "id": "LR9BxjIWS2ga",
        "outputId": "2ac19845-4952-4160-fde5-43bfff61d1d9"
      },
      "execution_count": null,
      "outputs": [
        {
          "output_type": "display_data",
          "data": {
            "text/plain": [
              "<Figure size 432x288 with 1 Axes>"
            ],
            "image/png": "[encoded data removed]"
          },
          "metadata": {
            "needs_background": "light"
          }
        }
      ]
    },
    {
      "cell_type": "markdown",
      "source": [
        "**Nhận xét:** với 4 hình ở trên, với C = 0.1, 1, 10, 100 thì các điểm dữ liệu được phân loại rất tối, không có điểm dữ liệu nào lộn phân qua lớp khác. \n",
        "\n",
        "Điều này không đồng nghĩa với việc chọn C nào cũng như nhau. Riêng đối với data này quá ít sample nên không thấy được sự thay đổi khi điều chỉnh C. "
      ],
      "metadata": {
        "id": "Jt_ip4p1yUUn"
      }
    },
    {
      "cell_type": "markdown",
      "source": [
        "### SVM với data_3 với kernel rbf (C = 1)"
      ],
      "metadata": {
        "id": "ZtSKeIRCTVqF"
      }
    },
    {
      "cell_type": "code",
      "source": [
        "# Train SVM với kernel rbf với C = 1 và gamma = 0.1\n",
        "clf_rbf_31 = SVC(C = 1.0,kernel=\"rbf\", gamma = 0.1)\n",
        "clf_rbf_31.fit(X_3,y_3)\n",
        "pred_rbf_31 = lambda p: clf_rbf_31.predict(p.reshape(1,-1))\n",
        "display_data_and_boundary(X_3,y_3,pred_rbf_31)"
      ],
      "metadata": {
        "colab": {
          "base_uri": "https://localhost:8080/",
          "height": 265
        },
        "id": "8miN49DuTVIg",
        "outputId": "d5e20414-1f67-4d86-d177-2e457b7b56ec"
      },
      "execution_count": null,
      "outputs": [
        {
          "output_type": "display_data",
          "data": {
            "text/plain": [
              "<Figure size 432x288 with 1 Axes>"
            ],
            "image/png": "[encoded data removed]"
          },
          "metadata": {
            "needs_background": "light"
          }
        }
      ]
    },
    {
      "cell_type": "markdown",
      "source": [
        "- gamma = 0.1: Biểu đồ cho thây ranh giới giữa các lớp tốt, phân chia tốt giữa các lớp rõ ràng, không có điểm dữ liệu nào lọt qua ranh giới khác. Vậy cho thấy gamma ở mức trung bình (giá trị trung gian) không quá thấp, cũng không quá cao.  "
      ],
      "metadata": {
        "id": "F1WHFVsUri8_"
      }
    },
    {
      "cell_type": "code",
      "source": [
        "# Train SVM với kernel rbf với C = 1.0 và gamma = 10.0\n",
        "clf_rbf_33 = SVC(C = 1.0,kernel=\"rbf\", gamma = 10)\n",
        "clf_rbf_33.fit(X_3,y_3)\n",
        "pred_rbf_33 = lambda p: clf_rbf_33.predict(p.reshape(1,-1))\n",
        "display_data_and_boundary(X_3,y_3,pred_rbf_33)"
      ],
      "metadata": {
        "colab": {
          "base_uri": "https://localhost:8080/",
          "height": 265
        },
        "id": "HQu67vqNTz2A",
        "outputId": "90dfc585-ebd7-40e4-b737-98a0d43b18bf"
      },
      "execution_count": null,
      "outputs": [
        {
          "output_type": "display_data",
          "data": {
            "text/plain": [
              "<Figure size 432x288 with 1 Axes>"
            ],
            "image/png": "[encoded data removed]"
          },
          "metadata": {
            "needs_background": "light"
          }
        }
      ]
    },
    {
      "cell_type": "markdown",
      "source": [
        "- gamma = 10.0: Ranh giới quyết định gần như hoàn toàn phụ thuộc vào các điểm dữ liệu riêng lẻ, tạo ra các “islands”. Dữ liệu này rõ ràng đã bị overfit."
      ],
      "metadata": {
        "id": "nHULVa-Ern4C"
      }
    },
    {
      "cell_type": "code",
      "source": [
        "# Train SVM với kernel rbf với C = 1.0 và gamma = 100.0\n",
        "clf_rbf_34 = SVC(C = 1.0,kernel=\"rbf\", gamma = 100)\n",
        "clf_rbf_34.fit(X_3,y_3)\n",
        "pred_rbf_34 = lambda p: clf_rbf_34.predict(p.reshape(1,-1))\n",
        "display_data_and_boundary(X_3,y_3,pred_rbf_34)"
      ],
      "metadata": {
        "colab": {
          "base_uri": "https://localhost:8080/",
          "height": 265
        },
        "id": "gO_aLaaKT2JT",
        "outputId": "91bec65a-9b88-47cc-8f68-cd1cfc1b9732"
      },
      "execution_count": null,
      "outputs": [
        {
          "output_type": "display_data",
          "data": {
            "text/plain": [
              "<Figure size 432x288 with 1 Axes>"
            ],
            "image/png": "[encoded data removed]"
          },
          "metadata": {
            "needs_background": "light"
          }
        }
      ]
    },
    {
      "cell_type": "markdown",
      "source": [
        "- gamma = 100.0: dữ liệu không có sự phân lớp, nó cùng nằm trong một lớp xanh lá cây. Điều này cho thấy độ chính xác của mô hình giảm xuống với giá trị gamma ngày càng tăng"
      ],
      "metadata": {
        "id": "lDWr490ErtuP"
      }
    },
    {
      "cell_type": "markdown",
      "source": [
        "### SVM với data_4 với kernel linear"
      ],
      "metadata": {
        "id": "AM-l4-tNLvO9"
      }
    },
    {
      "cell_type": "code",
      "source": [
        "# Train SVM với kernel linear với C = 0.1\n",
        "clf_41 = SVC(C = 0.1,kernel=\"linear\")\n",
        "clf_41.fit(X_4,y_4)\n",
        "pred_41 = lambda p: clf_41.predict(p.reshape(1,-1))\n",
        "display_data_and_boundary(X_4,y_4,pred_41)"
      ],
      "metadata": {
        "colab": {
          "base_uri": "https://localhost:8080/",
          "height": 269
        },
        "id": "4kgBtyr0Iw5P",
        "outputId": "3f82cd68-a1a3-4a4d-a1c3-6c8e0d6936b3"
      },
      "execution_count": null,
      "outputs": [
        {
          "output_type": "display_data",
          "data": {
            "text/plain": [
              "<Figure size 432x288 with 1 Axes>"
            ],
            "image/png": "[encoded data removed]"
          },
          "metadata": {
            "needs_background": "light"
          }
        }
      ]
    },
    {
      "cell_type": "code",
      "source": [
        "# Train SVM với kernel linear với C = 1.0\n",
        "clf_42 = SVC(C = 1.0,kernel=\"linear\")\n",
        "clf_42.fit(X_4,y_4)\n",
        "pred_42 = lambda p: clf_42.predict(p.reshape(1,-1))\n",
        "display_data_and_boundary(X_4,y_4,pred_42)"
      ],
      "metadata": {
        "colab": {
          "base_uri": "https://localhost:8080/",
          "height": 269
        },
        "id": "KQ_A369QIw2Y",
        "outputId": "b13d5b90-9cf9-4b6e-c838-ee29d503089e"
      },
      "execution_count": null,
      "outputs": [
        {
          "output_type": "display_data",
          "data": {
            "text/plain": [
              "<Figure size 432x288 with 1 Axes>"
            ],
            "image/png": "[encoded data removed]"
          },
          "metadata": {
            "needs_background": "light"
          }
        }
      ]
    },
    {
      "cell_type": "code",
      "source": [
        "# Train SVM với kernel linear với C = 10.0\n",
        "clf_43 = SVC(C = 10.0 ,kernel=\"linear\")\n",
        "clf_43.fit(X_4,y_4)\n",
        "pred_43 = lambda p: clf_43.predict(p.reshape(1,-1))\n",
        "display_data_and_boundary(X_4,y_4,pred_43)"
      ],
      "metadata": {
        "colab": {
          "base_uri": "https://localhost:8080/",
          "height": 269
        },
        "id": "PNAPwUNcIwzS",
        "outputId": "5e90d3c4-2bc4-46fc-97e2-72b74f89df35"
      },
      "execution_count": null,
      "outputs": [
        {
          "output_type": "display_data",
          "data": {
            "text/plain": [
              "<Figure size 432x288 with 1 Axes>"
            ],
            "image/png": "[encoded data removed]"
          },
          "metadata": {
            "needs_background": "light"
          }
        }
      ]
    },
    {
      "cell_type": "code",
      "source": [
        "# Train SVM với kernel linear với C = 100.0\n",
        "clf_44 = SVC(C = 100.0,kernel=\"linear\")\n",
        "clf_44.fit(X_4,y_4)\n",
        "pred_44 = lambda p: clf_44.predict(p.reshape(1,-1))\n",
        "display_data_and_boundary(X_4,y_4,pred_44)"
      ],
      "metadata": {
        "colab": {
          "base_uri": "https://localhost:8080/",
          "height": 269
        },
        "id": "E73O6mstIwwG",
        "outputId": "c5aa7347-0719-43f7-da45-85ff4d877379"
      },
      "execution_count": null,
      "outputs": [
        {
          "output_type": "display_data",
          "data": {
            "text/plain": [
              "<Figure size 432x288 with 1 Axes>"
            ],
            "image/png": "[encoded data removed]"
          },
          "metadata": {
            "needs_background": "light"
          }
        }
      ]
    },
    {
      "cell_type": "markdown",
      "source": [
        "**Nhận xét:** \n",
        "\n",
        "Cũng như data_3 thì data_4 này cũng không có gì thay đổi khi thay đổi C = [0.1, 1.0, 10.0. 100.0] thì các điểm dữ liệu được phân loại rất tối, không có điểm dữ liệu nào lộn phân qua lớp khác.\n",
        "\n"
      ],
      "metadata": {
        "id": "nsZr9svIy5xO"
      }
    },
    {
      "cell_type": "markdown",
      "source": [
        "### SVM với data_4 với kernel rbf"
      ],
      "metadata": {
        "id": "iwqARSA3XA5-"
      }
    },
    {
      "cell_type": "code",
      "source": [
        "# Train SVM với kernel rbf với C = 1.0 và gamma = 0.1\n",
        "clf_rbf_41 = SVC(C = 1.0 ,kernel=\"rbf\", gamma = 0.1)\n",
        "clf_rbf_41.fit(X_4,y_4)\n",
        "pred_rbf_41 = lambda p: clf_rbf_41.predict(p.reshape(1,-1))\n",
        "display_data_and_boundary(X_4,y_4,pred_rbf_41)"
      ],
      "metadata": {
        "colab": {
          "base_uri": "https://localhost:8080/",
          "height": 269
        },
        "id": "Jbse1QqBIwtV",
        "outputId": "1b1f7f71-53b7-4478-cf0d-e7d8f4afcf10"
      },
      "execution_count": null,
      "outputs": [
        {
          "output_type": "display_data",
          "data": {
            "text/plain": [
              "<Figure size 432x288 with 1 Axes>"
            ],
            "image/png": "[encoded data removed]"
          },
          "metadata": {
            "needs_background": "light"
          }
        }
      ]
    },
    {
      "cell_type": "markdown",
      "source": [
        "- gamma = 0.1: Biểu đồ cho thây ranh giới giữa các lớp tốt, phân chia tốt giữa các lớp rõ ràng, không có điểm dữ liệu nào lọt qua ranh giới khác. Vậy cho thấy gamma ở mức trung bình (giá trị trung gian) không quá thấp, cũng không quá cao."
      ],
      "metadata": {
        "id": "OFs_40TWrz1v"
      }
    },
    {
      "cell_type": "code",
      "source": [
        "# Train SVM với kernel rbf với C = 1.0 và gamma = 10.0\n",
        "clf_rbf_43 = SVC(C = 1.0,kernel=\"rbf\", gamma = 10.0)\n",
        "clf_rbf_43.fit(X_4,y_4)\n",
        "pred_rbf_43 = lambda p: clf_rbf_43.predict(p.reshape(1,-1))\n",
        "display_data_and_boundary(X_4,y_4,pred_rbf_43)"
      ],
      "metadata": {
        "colab": {
          "base_uri": "https://localhost:8080/",
          "height": 269
        },
        "id": "hJmy7jsnLI4w",
        "outputId": "daa7c06c-861d-4a04-a645-812474130e92"
      },
      "execution_count": null,
      "outputs": [
        {
          "output_type": "display_data",
          "data": {
            "text/plain": [
              "<Figure size 432x288 with 1 Axes>"
            ],
            "image/png": "[encoded data removed]"
          },
          "metadata": {
            "needs_background": "light"
          }
        }
      ]
    },
    {
      "cell_type": "markdown",
      "source": [
        "- gamma = 10.0: Ranh giới quyết định gần như hoàn toàn phụ thuộc vào các điểm dữ liệu riêng lẻ, tạo ra các “islands”. Dữ liệu này rõ ràng đã bị overfit."
      ],
      "metadata": {
        "id": "mBBYM4kRr3pr"
      }
    },
    {
      "cell_type": "code",
      "source": [
        "# Train SVM với kernel rbf với C = 1.0 và gamma = 100.0\n",
        "clf_rbf_44 = SVC(C = 1.0,kernel=\"rbf\", gamma = 100.0)\n",
        "clf_rbf_44.fit(X_4,y_4)\n",
        "pred_rbf_44 = lambda p: clf_rbf_44.predict(p.reshape(1,-1))\n",
        "display_data_and_boundary(X_4,y_4,pred_rbf_44)"
      ],
      "metadata": {
        "colab": {
          "base_uri": "https://localhost:8080/",
          "height": 269
        },
        "id": "UfxaTQYfLI0G",
        "outputId": "9b7a3e05-d2f2-4983-8443-ec0e989dfa6f"
      },
      "execution_count": null,
      "outputs": [
        {
          "output_type": "display_data",
          "data": {
            "text/plain": [
              "<Figure size 432x288 with 1 Axes>"
            ],
            "image/png": "[encoded data removed]"
          },
          "metadata": {
            "needs_background": "light"
          }
        }
      ]
    },
    {
      "cell_type": "markdown",
      "source": [
        "- gamma = 100.0: Dữ liệu phân bố lộn xộn, data có 3 labels nhưng chỉ được phân chia thành 2 ranh giới . Điều này cho thấy độ chính xác của mô hình giảm xuống với giá trị gamma ngày càng tăng."
      ],
      "metadata": {
        "id": "37RCQOOtr739"
      }
    },
    {
      "cell_type": "markdown",
      "source": [
        "## **2. Nhận xét với từng C khác nhau thì mô hình thay đổi như thế nào**"
      ],
      "metadata": {
        "id": "eJr6OFgjYeNJ"
      }
    },
    {
      "cell_type": "markdown",
      "source": [
        "note: em chỉ ghi lại các ý ở trên"
      ],
      "metadata": {
        "id": "Q-2Q9m7jzZdc"
      }
    },
    {
      "cell_type": "markdown",
      "source": [
        "Do số sample của 2 data quá thấp nên: \n",
        "\n",
        "Với kernel là linear ở data_3:\n",
        "\n",
        "Nhận xét: với 4 hình ở trên, với C = 0.1, 1, 10, 100 thì các điểm dữ liệu được phân loại rất tối, không có điểm dữ liệu nào lộn phân qua lớp khác.\n",
        "\n",
        "---\n",
        "Với kernel là linear ở data_4:\n",
        "Cũng như data_3 thì data_4 này cũng không có gì thay đổi khi thay đổi C = [0.1, 1.0, 10.0. 100.0] thì các điểm dữ liệu được phân loại rất tối, không có điểm dữ liệu nào lộn phân qua lớp khác.\n",
        "\n",
        "Điều này không đồng nghĩa với việc chọn C nào cũng như nhau. Riêng đối với data này quá ít sample nên không thấy được sự thay đổi khi điều chỉnh C."
      ],
      "metadata": {
        "id": "aptRHmTMZ_Ia"
      }
    },
    {
      "cell_type": "markdown",
      "source": [
        "## **3. Nêu lợi và hại khi tăng gamma và giảm gamma**"
      ],
      "metadata": {
        "id": "IW0fjQJsaVjJ"
      }
    },
    {
      "cell_type": "markdown",
      "source": [
        "note: em chỉ ghi lại các ý ở trên"
      ],
      "metadata": {
        "id": "wpSr4akSsB33"
      }
    },
    {
      "cell_type": "markdown",
      "source": [
        "Với kernel là rbf ở data_3:\n",
        "- gamma = 0.1: Biểu đồ cho thây ranh giới giữa các lớp tốt, phân chia tốt giữa các lớp rõ ràng, không có điểm dữ liệu nào lọt qua ranh giới khác. Vậy cho thấy gamma ở mức trung bình (giá trị trung gian) không quá thấp, cũng không quá cao.  \n",
        "- gamma = 10.0: Ranh giới quyết định gần như hoàn toàn phụ thuộc vào các điểm dữ liệu riêng lẻ, tạo ra các “islands”. Dữ liệu này rõ ràng đã bị overfit. \n",
        "- gamma = 100.0: dữ liệu không có sự phân lớp, nó cùng nằm trong một lớp xanh lá cây. Điều này cho thấy độ chính xác của mô hình giảm xuống với giá trị gamma ngày càng tăng. \n",
        "\n",
        "\n",
        "---\n",
        "Với kernel là linear ở data_4:\n",
        "- gamma = 0.1: Biểu đồ cho thây ranh giới giữa các lớp tốt, phân chia tốt giữa các lớp rõ ràng, không có điểm dữ liệu nào lọt qua ranh giới khác. Vậy cho thấy gamma ở mức trung bình (giá trị trung gian) không quá thấp, cũng không quá cao.  \n",
        "- gamma = 10.0: Ranh giới quyết định gần như hoàn toàn phụ thuộc vào các điểm dữ liệu riêng lẻ, tạo ra các “islands”. Dữ liệu này rõ ràng đã bị overfit. \n",
        "- gamma = 100.0: Dữ liệu phân bố lộn xộn, data có 3 labels nhưng chỉ được phân chia thành 2 ranh giới . Điều này cho thấy độ chính xác của mô hình giảm xuống với giá trị gamma ngày càng tăng. "
      ],
      "metadata": {
        "id": "X553_NBvcMqK"
      }
    },
    {
      "cell_type": "markdown",
      "source": [
        "**`Tổng kết: `**\n",
        "\n",
        "Dựa vào data trong bài em có vài nhận xét sau: \n",
        "\n",
        "- Việc lựa chọn gamma đối với kernel rbf là rất quan trọng:\n",
        "- Khi gamma được lựa chọn ở mức không quá cao cũng không quá thấp thì miền quyết định rộng, phân lớp rõ hơn.\n",
        "- Khi lựa chọn gamma ở mức quá cao sẽ làm miền quyết định gần như fit vào các điểm dữ liệu."
      ],
      "metadata": {
        "id": "7SHqK3X3z767"
      }
    }
  ]
}