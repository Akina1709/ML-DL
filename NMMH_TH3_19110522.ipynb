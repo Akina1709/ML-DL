{
  "nbformat": 4,
  "nbformat_minor": 0,
  "metadata": {
    "colab": {
      "provenance": [],
      "toc_visible": true
    },
    "kernelspec": {
      "name": "python3",
      "display_name": "Python 3"
    },
    "language_info": {
      "name": "python"
    }
  },
  "cells": [
    {
      "cell_type": "code",
      "source": [
        "\"\"\"\n",
        "Ho va Ten: Bui Thi Thanh Xuan\n",
        "MSSV: 19110522\n",
        "\"\"\""
      ],
      "metadata": {
        "id": "z0qzZz7ia0Zm"
      },
      "execution_count": null,
      "outputs": []
    },
    {
      "cell_type": "code",
      "execution_count": null,
      "metadata": {
        "id": "TOr7GTBvariE"
      },
      "outputs": [],
      "source": [
        "import pandas as pd\n",
        "import numpy as np\n",
        "import matplotlib.pyplot as plt\n",
        "from sklearn.preprocessing import OneHotEncoder"
      ]
    },
    {
      "cell_type": "code",
      "source": [
        "train = pd.read_csv(\"https://raw.githubusercontent.com/huynhthanh98/ML/master/Lab03/bt_train.csv\")\n",
        "train.head()"
      ],
      "metadata": {
        "colab": {
          "base_uri": "https://localhost:8080/",
          "height": 206
        },
        "id": "iKlU6Re4a27_",
        "outputId": "237625cb-55d7-4987-8b99-926f850dcd6d"
      },
      "execution_count": null,
      "outputs": [
        {
          "output_type": "execute_result",
          "data": {
            "text/plain": [
              "          x1         x2  label\n",
              "0  55.808717  54.602061      0\n",
              "1  50.882672  52.736342      0\n",
              "2  53.196444  44.208365      0\n",
              "3  54.727839  60.406845      0\n",
              "4  49.771372  48.405605      0"
            ],
            "text/html": [
              "\n",
              "  <div id=\"df-e29b7b6e-59ac-4db6-915a-ba770d59de00\">\n",
              "    <div class=\"colab-df-container\">\n",
              "      <div>\n",
              "<style scoped>\n",
              "    .dataframe tbody tr th:only-of-type {\n",
              "        vertical-align: middle;\n",
              "    }\n",
              "\n",
              "    .dataframe tbody tr th {\n",
              "        vertical-align: top;\n",
              "    }\n",
              "\n",
              "    .dataframe thead th {\n",
              "        text-align: right;\n",
              "    }\n",
              "</style>\n",
              "<table border=\"1\" class=\"dataframe\">\n",
              "  <thead>\n",
              "    <tr style=\"text-align: right;\">\n",
              "      <th></th>\n",
              "      <th>x1</th>\n",
              "      <th>x2</th>\n",
              "      <th>label</th>\n",
              "    </tr>\n",
              "  </thead>\n",
              "  <tbody>\n",
              "    <tr>\n",
              "      <th>0</th>\n",
              "      <td>55.808717</td>\n",
              "      <td>54.602061</td>\n",
              "      <td>0</td>\n",
              "    </tr>\n",
              "    <tr>\n",
              "      <th>1</th>\n",
              "      <td>50.882672</td>\n",
              "      <td>52.736342</td>\n",
              "      <td>0</td>\n",
              "    </tr>\n",
              "    <tr>\n",
              "      <th>2</th>\n",
              "      <td>53.196444</td>\n",
              "      <td>44.208365</td>\n",
              "      <td>0</td>\n",
              "    </tr>\n",
              "    <tr>\n",
              "      <th>3</th>\n",
              "      <td>54.727839</td>\n",
              "      <td>60.406845</td>\n",
              "      <td>0</td>\n",
              "    </tr>\n",
              "    <tr>\n",
              "      <th>4</th>\n",
              "      <td>49.771372</td>\n",
              "      <td>48.405605</td>\n",
              "      <td>0</td>\n",
              "    </tr>\n",
              "  </tbody>\n",
              "</table>\n",
              "</div>\n",
              "      <button class=\"colab-df-convert\" onclick=\"convertToInteractive('df-e29b7b6e-59ac-4db6-915a-ba770d59de00')\"\n",
              "              title=\"Convert this dataframe to an interactive table.\"\n",
              "              style=\"display:none;\">\n",
              "        \n",
              "  <svg xmlns=\"http://www.w3.org/2000/svg\" height=\"24px\"viewBox=\"0 0 24 24\"\n",
              "       width=\"24px\">\n",
              "    <path d=\"M0 0h24v24H0V0z\" fill=\"none\"/>\n",
              "    <path d=\"M18.56 5.44l.94 2.06.94-2.06 2.06-.94-2.06-.94-.94-2.06-.94 2.06-2.06.94zm-11 1L8.5 8.5l.94-2.06 2.06-.94-2.06-.94L8.5 2.5l-.94 2.06-2.06.94zm10 10l.94 2.06.94-2.06 2.06-.94-2.06-.94-.94-2.06-.94 2.06-2.06.94z\"/><path d=\"M17.41 7.96l-1.37-1.37c-.4-.4-.92-.59-1.43-.59-.52 0-1.04.2-1.43.59L10.3 9.45l-7.72 7.72c-.78.78-.78 2.05 0 2.83L4 21.41c.39.39.9.59 1.41.59.51 0 1.02-.2 1.41-.59l7.78-7.78 2.81-2.81c.8-.78.8-2.07 0-2.86zM5.41 20L4 18.59l7.72-7.72 1.47 1.35L5.41 20z\"/>\n",
              "  </svg>\n",
              "      </button>\n",
              "      \n",
              "  <style>\n",
              "    .colab-df-container {\n",
              "      display:flex;\n",
              "      flex-wrap:wrap;\n",
              "      gap: 12px;\n",
              "    }\n",
              "\n",
              "    .colab-df-convert {\n",
              "      background-color: #E8F0FE;\n",
              "      border: none;\n",
              "      border-radius: 50%;\n",
              "      cursor: pointer;\n",
              "      display: none;\n",
              "      fill: #1967D2;\n",
              "      height: 32px;\n",
              "      padding: 0 0 0 0;\n",
              "      width: 32px;\n",
              "    }\n",
              "\n",
              "    .colab-df-convert:hover {\n",
              "      background-color: #E2EBFA;\n",
              "      box-shadow: 0px 1px 2px rgba(60, 64, 67, 0.3), 0px 1px 3px 1px rgba(60, 64, 67, 0.15);\n",
              "      fill: #174EA6;\n",
              "    }\n",
              "\n",
              "    [theme=dark] .colab-df-convert {\n",
              "      background-color: #3B4455;\n",
              "      fill: #D2E3FC;\n",
              "    }\n",
              "\n",
              "    [theme=dark] .colab-df-convert:hover {\n",
              "      background-color: #434B5C;\n",
              "      box-shadow: 0px 1px 3px 1px rgba(0, 0, 0, 0.15);\n",
              "      filter: drop-shadow(0px 1px 2px rgba(0, 0, 0, 0.3));\n",
              "      fill: #FFFFFF;\n",
              "    }\n",
              "  </style>\n",
              "\n",
              "      <script>\n",
              "        const buttonEl =\n",
              "          document.querySelector('#df-e29b7b6e-59ac-4db6-915a-ba770d59de00 button.colab-df-convert');\n",
              "        buttonEl.style.display =\n",
              "          google.colab.kernel.accessAllowed ? 'block' : 'none';\n",
              "\n",
              "        async function convertToInteractive(key) {\n",
              "          const element = document.querySelector('#df-e29b7b6e-59ac-4db6-915a-ba770d59de00');\n",
              "          const dataTable =\n",
              "            await google.colab.kernel.invokeFunction('convertToInteractive',\n",
              "                                                     [key], {});\n",
              "          if (!dataTable) return;\n",
              "\n",
              "          const docLinkHtml = 'Like what you see? Visit the ' +\n",
              "            '<a target=\"_blank\" href=https://colab.research.google.com/notebooks/data_table.ipynb>data table notebook</a>'\n",
              "            + ' to learn more about interactive tables.';\n",
              "          element.innerHTML = '';\n",
              "          dataTable['output_type'] = 'display_data';\n",
              "          await google.colab.output.renderOutput(dataTable, element);\n",
              "          const docLink = document.createElement('div');\n",
              "          docLink.innerHTML = docLinkHtml;\n",
              "          element.appendChild(docLink);\n",
              "        }\n",
              "      </script>\n",
              "    </div>\n",
              "  </div>\n",
              "  "
            ]
          },
          "metadata": {},
          "execution_count": 73
        }
      ]
    },
    {
      "cell_type": "code",
      "source": [
        "valid = pd.read_csv(\"https://raw.githubusercontent.com/huynhthanh98/ML/master/Lab03/bt_valid.csv\")\n",
        "valid.head()"
      ],
      "metadata": {
        "colab": {
          "base_uri": "https://localhost:8080/",
          "height": 206
        },
        "id": "QUHNpH5BGQjR",
        "outputId": "69070552-4650-4fde-e3c4-e040aa161ce0"
      },
      "execution_count": null,
      "outputs": [
        {
          "output_type": "execute_result",
          "data": {
            "text/plain": [
              "          x1         x2  label\n",
              "0  53.533304  52.619277      0\n",
              "1  46.542143  49.523852      0\n",
              "2  53.689006  49.716690      0\n",
              "3  45.393529  49.876802      0\n",
              "4  47.847049  50.597015      0"
            ],
            "text/html": [
              "\n",
              "  <div id=\"df-d60b3bcc-77dd-4a73-878f-31ae3e3132ef\">\n",
              "    <div class=\"colab-df-container\">\n",
              "      <div>\n",
              "<style scoped>\n",
              "    .dataframe tbody tr th:only-of-type {\n",
              "        vertical-align: middle;\n",
              "    }\n",
              "\n",
              "    .dataframe tbody tr th {\n",
              "        vertical-align: top;\n",
              "    }\n",
              "\n",
              "    .dataframe thead th {\n",
              "        text-align: right;\n",
              "    }\n",
              "</style>\n",
              "<table border=\"1\" class=\"dataframe\">\n",
              "  <thead>\n",
              "    <tr style=\"text-align: right;\">\n",
              "      <th></th>\n",
              "      <th>x1</th>\n",
              "      <th>x2</th>\n",
              "      <th>label</th>\n",
              "    </tr>\n",
              "  </thead>\n",
              "  <tbody>\n",
              "    <tr>\n",
              "      <th>0</th>\n",
              "      <td>53.533304</td>\n",
              "      <td>52.619277</td>\n",
              "      <td>0</td>\n",
              "    </tr>\n",
              "    <tr>\n",
              "      <th>1</th>\n",
              "      <td>46.542143</td>\n",
              "      <td>49.523852</td>\n",
              "      <td>0</td>\n",
              "    </tr>\n",
              "    <tr>\n",
              "      <th>2</th>\n",
              "      <td>53.689006</td>\n",
              "      <td>49.716690</td>\n",
              "      <td>0</td>\n",
              "    </tr>\n",
              "    <tr>\n",
              "      <th>3</th>\n",
              "      <td>45.393529</td>\n",
              "      <td>49.876802</td>\n",
              "      <td>0</td>\n",
              "    </tr>\n",
              "    <tr>\n",
              "      <th>4</th>\n",
              "      <td>47.847049</td>\n",
              "      <td>50.597015</td>\n",
              "      <td>0</td>\n",
              "    </tr>\n",
              "  </tbody>\n",
              "</table>\n",
              "</div>\n",
              "      <button class=\"colab-df-convert\" onclick=\"convertToInteractive('df-d60b3bcc-77dd-4a73-878f-31ae3e3132ef')\"\n",
              "              title=\"Convert this dataframe to an interactive table.\"\n",
              "              style=\"display:none;\">\n",
              "        \n",
              "  <svg xmlns=\"http://www.w3.org/2000/svg\" height=\"24px\"viewBox=\"0 0 24 24\"\n",
              "       width=\"24px\">\n",
              "    <path d=\"M0 0h24v24H0V0z\" fill=\"none\"/>\n",
              "    <path d=\"M18.56 5.44l.94 2.06.94-2.06 2.06-.94-2.06-.94-.94-2.06-.94 2.06-2.06.94zm-11 1L8.5 8.5l.94-2.06 2.06-.94-2.06-.94L8.5 2.5l-.94 2.06-2.06.94zm10 10l.94 2.06.94-2.06 2.06-.94-2.06-.94-.94-2.06-.94 2.06-2.06.94z\"/><path d=\"M17.41 7.96l-1.37-1.37c-.4-.4-.92-.59-1.43-.59-.52 0-1.04.2-1.43.59L10.3 9.45l-7.72 7.72c-.78.78-.78 2.05 0 2.83L4 21.41c.39.39.9.59 1.41.59.51 0 1.02-.2 1.41-.59l7.78-7.78 2.81-2.81c.8-.78.8-2.07 0-2.86zM5.41 20L4 18.59l7.72-7.72 1.47 1.35L5.41 20z\"/>\n",
              "  </svg>\n",
              "      </button>\n",
              "      \n",
              "  <style>\n",
              "    .colab-df-container {\n",
              "      display:flex;\n",
              "      flex-wrap:wrap;\n",
              "      gap: 12px;\n",
              "    }\n",
              "\n",
              "    .colab-df-convert {\n",
              "      background-color: #E8F0FE;\n",
              "      border: none;\n",
              "      border-radius: 50%;\n",
              "      cursor: pointer;\n",
              "      display: none;\n",
              "      fill: #1967D2;\n",
              "      height: 32px;\n",
              "      padding: 0 0 0 0;\n",
              "      width: 32px;\n",
              "    }\n",
              "\n",
              "    .colab-df-convert:hover {\n",
              "      background-color: #E2EBFA;\n",
              "      box-shadow: 0px 1px 2px rgba(60, 64, 67, 0.3), 0px 1px 3px 1px rgba(60, 64, 67, 0.15);\n",
              "      fill: #174EA6;\n",
              "    }\n",
              "\n",
              "    [theme=dark] .colab-df-convert {\n",
              "      background-color: #3B4455;\n",
              "      fill: #D2E3FC;\n",
              "    }\n",
              "\n",
              "    [theme=dark] .colab-df-convert:hover {\n",
              "      background-color: #434B5C;\n",
              "      box-shadow: 0px 1px 3px 1px rgba(0, 0, 0, 0.15);\n",
              "      filter: drop-shadow(0px 1px 2px rgba(0, 0, 0, 0.3));\n",
              "      fill: #FFFFFF;\n",
              "    }\n",
              "  </style>\n",
              "\n",
              "      <script>\n",
              "        const buttonEl =\n",
              "          document.querySelector('#df-d60b3bcc-77dd-4a73-878f-31ae3e3132ef button.colab-df-convert');\n",
              "        buttonEl.style.display =\n",
              "          google.colab.kernel.accessAllowed ? 'block' : 'none';\n",
              "\n",
              "        async function convertToInteractive(key) {\n",
              "          const element = document.querySelector('#df-d60b3bcc-77dd-4a73-878f-31ae3e3132ef');\n",
              "          const dataTable =\n",
              "            await google.colab.kernel.invokeFunction('convertToInteractive',\n",
              "                                                     [key], {});\n",
              "          if (!dataTable) return;\n",
              "\n",
              "          const docLinkHtml = 'Like what you see? Visit the ' +\n",
              "            '<a target=\"_blank\" href=https://colab.research.google.com/notebooks/data_table.ipynb>data table notebook</a>'\n",
              "            + ' to learn more about interactive tables.';\n",
              "          element.innerHTML = '';\n",
              "          dataTable['output_type'] = 'display_data';\n",
              "          await google.colab.output.renderOutput(dataTable, element);\n",
              "          const docLink = document.createElement('div');\n",
              "          docLink.innerHTML = docLinkHtml;\n",
              "          element.appendChild(docLink);\n",
              "        }\n",
              "      </script>\n",
              "    </div>\n",
              "  </div>\n",
              "  "
            ]
          },
          "metadata": {},
          "execution_count": 74
        }
      ]
    },
    {
      "cell_type": "code",
      "source": [
        "X_train = train[['x1','x2']].values\n",
        "Y_train = train['label'].values"
      ],
      "metadata": {
        "id": "Gbttn9Ir10mg"
      },
      "execution_count": null,
      "outputs": []
    },
    {
      "cell_type": "code",
      "source": [
        "print(X_train.shape)\n",
        "print(Y_train.shape)"
      ],
      "metadata": {
        "colab": {
          "base_uri": "https://localhost:8080/"
        },
        "id": "HwFO0uIn153m",
        "outputId": "c4c02f5f-1a36-44f9-8b90-b9dd6dead7a2"
      },
      "execution_count": null,
      "outputs": [
        {
          "output_type": "stream",
          "name": "stdout",
          "text": [
            "(900, 2)\n",
            "(900,)\n"
          ]
        }
      ]
    },
    {
      "cell_type": "code",
      "source": [
        "X_valid = valid[['x1','x2']].values\n",
        "Y_valid = valid['label'].values"
      ],
      "metadata": {
        "id": "HRtX6HHfGhaD"
      },
      "execution_count": null,
      "outputs": []
    },
    {
      "cell_type": "code",
      "source": [
        "print(X_valid.shape)\n",
        "print(Y_valid.shape)"
      ],
      "metadata": {
        "colab": {
          "base_uri": "https://localhost:8080/"
        },
        "id": "S3M_fkrCa219",
        "outputId": "5708669e-36cb-4257-8ef1-c1ff9e134c27"
      },
      "execution_count": null,
      "outputs": [
        {
          "output_type": "stream",
          "name": "stdout",
          "text": [
            "(300, 2)\n",
            "(300,)\n"
          ]
        }
      ]
    },
    {
      "cell_type": "code",
      "source": [
        "#Vẽ hình \n",
        "plt.scatter(train['x1'].values[train['label'].values == 0], train['x2'].values[train['label'].values==0])\n",
        "plt.scatter(train['x1'].values[train['label'].values == 1], train['x2'].values[train['label'].values==1])\n",
        "plt.scatter(train['x1'].values[train['label'].values == 2], train['x2'].values[train['label'].values==2])\n",
        "\n",
        "\n",
        "plt.figure()\n",
        "\n",
        "plt.scatter(valid['x1'].values[valid['label'].values == 0], valid['x2'].values[valid['label'].values==0])\n",
        "plt.scatter(valid['x1'].values[valid['label'].values == 1], valid['x2'].values[valid['label'].values==1])\n",
        "plt.scatter(valid['x1'].values[valid['label'].values == 2], valid['x2'].values[valid['label'].values==2])\n"
      ],
      "metadata": {
        "colab": {
          "base_uri": "https://localhost:8080/",
          "height": 530
        },
        "id": "2y0KqXSB20zS",
        "outputId": "f49eefa3-c279-425f-cf1b-a80e09435fb2"
      },
      "execution_count": null,
      "outputs": [
        {
          "output_type": "execute_result",
          "data": {
            "text/plain": [
              "<matplotlib.collections.PathCollection at 0x7f4ab1ba78d0>"
            ]
          },
          "metadata": {},
          "execution_count": 79
        },
        {
          "output_type": "display_data",
          "data": {
            "text/plain": [
              "<Figure size 432x288 with 1 Axes>"
            ],
            "image/png": "[encoded data removed]"
          },
          "metadata": {
            "needs_background": "light"
          }
        },
        {
          "output_type": "display_data",
          "data": {
            "text/plain": [
              "<Figure size 432x288 with 1 Axes>"
            ],
            "image/png": "[encoded data removed]"
          },
          "metadata": {
            "needs_background": "light"
          }
        }
      ]
    },
    {
      "cell_type": "code",
      "source": [
        "## normalization\n",
        "x_mean = np.mean(X_train)\n",
        "x_std = np.std(X_train)\n",
        "\n",
        "X_train = (X_train - x_mean)/ x_std\n",
        "X_valid = (X_valid - x_mean)/ x_std"
      ],
      "metadata": {
        "id": "bvE1MOTxi-rI"
      },
      "execution_count": null,
      "outputs": []
    },
    {
      "cell_type": "code",
      "source": [
        "X_train"
      ],
      "metadata": {
        "colab": {
          "base_uri": "https://localhost:8080/"
        },
        "id": "U3dzJTEogtkn",
        "outputId": "74592c5d-f247-4b56-88d1-cc5c9f42e740"
      },
      "execution_count": null,
      "outputs": [
        {
          "output_type": "execute_result",
          "data": {
            "text/plain": [
              "array([[ 0.1861162 ,  0.05545221],\n",
              "       [-0.34730555, -0.14657899],\n",
              "       [-0.09675642, -1.07003966],\n",
              "       ...,\n",
              "       [ 1.11065448,  0.69739676],\n",
              "       [ 1.44901379, -0.28449165],\n",
              "       [ 1.85226894,  0.14147163]])"
            ]
          },
          "metadata": {},
          "execution_count": 81
        }
      ]
    },
    {
      "cell_type": "code",
      "source": [
        "# Encode label into one-hot vectors\n",
        "enc = OneHotEncoder()\n",
        "y_train_onehot = enc.fit_transform(Y_train.reshape(-1,1)).toarray()\n",
        "y_valid_onehot = enc.fit_transform(Y_valid.reshape(-1,1)).toarray()"
      ],
      "metadata": {
        "id": "w90kSGDYa2y8"
      },
      "execution_count": null,
      "outputs": []
    },
    {
      "cell_type": "code",
      "source": [
        "y_train_onehot.shape"
      ],
      "metadata": {
        "colab": {
          "base_uri": "https://localhost:8080/"
        },
        "id": "P5-87JdLa2tD",
        "outputId": "3472f41c-b38a-40b3-adc8-d2a185d4abc5"
      },
      "execution_count": null,
      "outputs": [
        {
          "output_type": "execute_result",
          "data": {
            "text/plain": [
              "(900, 3)"
            ]
          },
          "metadata": {},
          "execution_count": 83
        }
      ]
    },
    {
      "cell_type": "code",
      "source": [
        "def softmax(Z):\n",
        "    '''\n",
        "        Z: (NxC)\n",
        "        return: A: (NxC)\n",
        "    '''\n",
        "    e_z = np.exp(Z)\n",
        "    A = e_z/e_z.sum(axis=1).reshape(-1,1)\n",
        "    return A\n",
        "def loss(X, Y, W):\n",
        "    '''\n",
        "        X: Nxp\n",
        "        Y: NxC\n",
        "        W: pxC\n",
        "        return: float\n",
        "    '''\n",
        "    A = softmax(X.dot(W))\n",
        "    return -np.sum(Y * np.log(A))"
      ],
      "metadata": {
        "id": "LoDZ33Wya2nT"
      },
      "execution_count": null,
      "outputs": []
    },
    {
      "cell_type": "code",
      "source": [
        "def grad(X, Y, W):\n",
        "    '''\n",
        "        X: Nxp\n",
        "        Y: NxC\n",
        "        W: pxC\n",
        "        return: pxC\n",
        "    '''\n",
        "    A = softmax(X.dot(W))    \n",
        "    E = A-Y # NxC\n",
        "    return X.T.dot(E)"
      ],
      "metadata": {
        "id": "mijcg31da2kj"
      },
      "execution_count": null,
      "outputs": []
    },
    {
      "cell_type": "code",
      "source": [
        "def logistic_Reg(x_train,y_train,x_valid,y_valid):\n",
        "\n",
        "    \n",
        "    best_theta = []      #biến để lưu tham số mà có accuracy tốt nhất trên tập valid\n",
        "    best_val_acc = -1.0\n",
        "\n",
        "    #Thêm một cột bằng 1 X = (1,x1,x2)\n",
        "    x_train = np.concatenate([np.ones([x_train.shape[0],1]),x_train],axis=1)\n",
        "    x_valid = np.concatenate([np.ones([x_valid.shape[0],1]),x_valid],axis=1)\n",
        "\n",
        "    #Khởi tạo ma trận theta\n",
        "    theta = np.random.randn(x_train.shape[1], y_train.shape[1])\n",
        "    #theta_valid = np.random.randn(x_valid.shape[1], y_valid.shape[1])\n",
        "\n",
        "    list_theta = [] #Lưu các theta \n",
        "    hist_loss_train = []  #Lưu các loss ở tập train\n",
        "    hist_loss_valid = []  #Lưu các loss ở tập train\n",
        "    lrn_rate = 0.01\n",
        "\n",
        "    for epoch in range(50):\n",
        "        theta = theta - lrn_rate * grad(x_train,y_train,theta)\n",
        "        #theta_valid = theta_valid - lrn_rate * grad(x_valid,y_valid,theta_valid)\n",
        "        list_theta.append(theta)\n",
        "\n",
        "        #Train\n",
        "        train_cost = loss(x_train,y_train, theta)\n",
        "        pred_train = np.argmax(softmax(x_train.dot(theta)),axis=1)\n",
        "        acc_train = np.mean(pred_train == np.argmax(y_train,axis=1))\n",
        "\n",
        "        #Valid\n",
        "        valid_cost = loss(x_valid,y_valid, theta)\n",
        "        pred_valid = np.argmax(softmax(x_valid.dot(theta)),axis=1)\n",
        "        acc_valid = np.mean(pred_valid == np.argmax(y_valid,axis=1))\n",
        "\n",
        "        hist_loss_train.append(train_cost)\n",
        "        hist_loss_valid.append(valid_cost)\n",
        "\n",
        "        if acc_valid > best_val_acc:\n",
        "            ## lưu tham số tốt nhất\n",
        "            best_val_acc = acc_valid\n",
        "            best_theta = theta\n",
        "\n",
        "        print(\"epoch {} - loss {:.4f} - acc {:.4f} - val_loss {:.4f} - val_acc {:.4f}\".format(epoch, train_cost, acc_train, valid_cost, acc_valid))\n",
        "    final_theta = best_theta\n",
        "    pred_train = np.argmax(softmax(x_train.dot(final_theta)),axis=1)\n",
        "    pred_valid = np.argmax(softmax(x_valid.dot(final_theta)),axis=1)\n",
        "    train_acc = np.mean(pred_train == np.argmax(y_train,axis=1))\n",
        "    valid_acc = np.mean(pred_valid == np.argmax(y_valid,axis=1))\n",
        "    print(\"Accuracy on train: \", train_acc)\n",
        "    print(\"Accuracy on valid: \", valid_acc)\n",
        "    return hist_loss_train,hist_loss_valid,final_theta"
      ],
      "metadata": {
        "id": "rw0MN-fv42Zh"
      },
      "execution_count": null,
      "outputs": []
    },
    {
      "cell_type": "code",
      "source": [
        "hist_loss_train,hist_loss_valid,theta = logistic_Reg(X_train,y_train_onehot,X_valid,y_valid_onehot)"
      ],
      "metadata": {
        "colab": {
          "base_uri": "https://localhost:8080/"
        },
        "id": "7Fx7so4vJF1Z",
        "outputId": "3485e64d-8ddc-450c-bf7d-49ec8a78da5d"
      },
      "execution_count": null,
      "outputs": [
        {
          "output_type": "stream",
          "name": "stdout",
          "text": [
            "epoch 0 - loss 547.2246 - acc 0.7000 - val_loss 476.7647 - val_acc 0.4233\n",
            "epoch 1 - loss 610.9836 - acc 0.7344 - val_loss 338.3237 - val_acc 0.5567\n",
            "epoch 2 - loss 719.9941 - acc 0.6711 - val_loss 485.8441 - val_acc 0.5233\n",
            "epoch 3 - loss 882.8026 - acc 0.6889 - val_loss 554.7747 - val_acc 0.4800\n",
            "epoch 4 - loss 564.1004 - acc 0.7356 - val_loss 433.6442 - val_acc 0.5567\n",
            "epoch 5 - loss 550.2323 - acc 0.7878 - val_loss 450.4232 - val_acc 0.5533\n",
            "epoch 6 - loss 408.7453 - acc 0.8033 - val_loss 397.9909 - val_acc 0.5867\n",
            "epoch 7 - loss 383.2106 - acc 0.8333 - val_loss 383.6842 - val_acc 0.5900\n",
            "epoch 8 - loss 330.3594 - acc 0.8411 - val_loss 371.3116 - val_acc 0.5967\n",
            "epoch 9 - loss 316.3119 - acc 0.8611 - val_loss 355.9538 - val_acc 0.6133\n",
            "epoch 10 - loss 297.6629 - acc 0.8767 - val_loss 357.4086 - val_acc 0.6067\n",
            "epoch 11 - loss 291.0325 - acc 0.8744 - val_loss 346.1497 - val_acc 0.6067\n",
            "epoch 12 - loss 283.3373 - acc 0.8844 - val_loss 351.3168 - val_acc 0.6200\n",
            "epoch 13 - loss 279.9992 - acc 0.8800 - val_loss 342.7493 - val_acc 0.6167\n",
            "epoch 14 - loss 276.1970 - acc 0.8911 - val_loss 348.7791 - val_acc 0.6367\n",
            "epoch 15 - loss 274.3913 - acc 0.8778 - val_loss 341.6664 - val_acc 0.6233\n",
            "epoch 16 - loss 272.2579 - acc 0.8889 - val_loss 347.9033 - val_acc 0.6400\n",
            "epoch 17 - loss 271.2770 - acc 0.8800 - val_loss 341.5178 - val_acc 0.6267\n",
            "epoch 18 - loss 270.0028 - acc 0.8900 - val_loss 347.9156 - val_acc 0.6400\n",
            "epoch 19 - loss 269.5498 - acc 0.8800 - val_loss 341.8123 - val_acc 0.6233\n",
            "epoch 20 - loss 268.7979 - acc 0.8911 - val_loss 348.5009 - val_acc 0.6400\n",
            "epoch 21 - loss 268.7511 - acc 0.8800 - val_loss 342.3724 - val_acc 0.6333\n",
            "epoch 22 - loss 268.3696 - acc 0.8911 - val_loss 349.5380 - val_acc 0.6400\n",
            "epoch 23 - loss 268.6956 - acc 0.8800 - val_loss 343.1452 - val_acc 0.6333\n",
            "epoch 24 - loss 268.6142 - acc 0.8911 - val_loss 350.9962 - val_acc 0.6367\n",
            "epoch 25 - loss 269.3345 - acc 0.8822 - val_loss 344.1369 - val_acc 0.6267\n",
            "epoch 26 - loss 269.5195 - acc 0.8933 - val_loss 352.8896 - val_acc 0.6300\n",
            "epoch 27 - loss 270.6921 - acc 0.8789 - val_loss 345.3878 - val_acc 0.6233\n",
            "epoch 28 - loss 271.1144 - acc 0.8933 - val_loss 355.2483 - val_acc 0.6267\n",
            "epoch 29 - loss 272.8156 - acc 0.8789 - val_loss 346.9546 - val_acc 0.6200\n",
            "epoch 30 - loss 273.4159 - acc 0.8856 - val_loss 358.0859 - val_acc 0.6200\n",
            "epoch 31 - loss 275.7065 - acc 0.8811 - val_loss 348.8843 - val_acc 0.6200\n",
            "epoch 32 - loss 276.3547 - acc 0.8822 - val_loss 361.3559 - val_acc 0.6133\n",
            "epoch 33 - loss 279.2279 - acc 0.8767 - val_loss 351.1711 - val_acc 0.6233\n",
            "epoch 34 - loss 279.6900 - acc 0.8789 - val_loss 364.9012 - val_acc 0.6100\n",
            "epoch 35 - loss 283.0127 - acc 0.8722 - val_loss 353.7051 - val_acc 0.6233\n",
            "epoch 36 - loss 282.9655 - acc 0.8778 - val_loss 368.4285 - val_acc 0.6067\n",
            "epoch 37 - loss 286.4555 - acc 0.8711 - val_loss 356.2481 - val_acc 0.6333\n",
            "epoch 38 - loss 285.5837 - acc 0.8711 - val_loss 371.5494 - val_acc 0.6067\n",
            "epoch 39 - loss 288.8696 - acc 0.8700 - val_loss 358.4837 - val_acc 0.6367\n",
            "epoch 40 - loss 287.0211 - acc 0.8711 - val_loss 373.9056 - val_acc 0.6100\n",
            "epoch 41 - loss 289.7778 - acc 0.8689 - val_loss 360.1440 - val_acc 0.6367\n",
            "epoch 42 - loss 287.0659 - acc 0.8711 - val_loss 375.3146 - val_acc 0.6100\n",
            "epoch 43 - loss 289.1376 - acc 0.8700 - val_loss 361.1307 - val_acc 0.6367\n",
            "epoch 44 - loss 285.8945 - acc 0.8744 - val_loss 375.8316 - val_acc 0.6100\n",
            "epoch 45 - loss 287.3175 - acc 0.8711 - val_loss 361.5358 - val_acc 0.6300\n",
            "epoch 46 - loss 283.9371 - acc 0.8778 - val_loss 375.6888 - val_acc 0.6100\n",
            "epoch 47 - loss 284.8679 - acc 0.8700 - val_loss 361.5596 - val_acc 0.6300\n",
            "epoch 48 - loss 281.6617 - acc 0.8767 - val_loss 375.1732 - val_acc 0.6100\n",
            "epoch 49 - loss 282.2841 - acc 0.8756 - val_loss 361.4061 - val_acc 0.6267\n",
            "Accuracy on train:  0.8888888888888888\n",
            "Accuracy on valid:  0.64\n"
          ]
        }
      ]
    },
    {
      "cell_type": "code",
      "source": [
        "plt.plot(hist_loss_train)\n",
        "plt.title('Loss train')\n",
        "\n",
        "plt.figure()\n",
        "\n",
        "plt.plot(hist_loss_valid)\n",
        "plt.title('Loss Valid')"
      ],
      "metadata": {
        "colab": {
          "base_uri": "https://localhost:8080/",
          "height": 562
        },
        "id": "dAQ54lp2JbEF",
        "outputId": "7f768fcf-4dc5-44a4-9289-c3015fcd4f6d"
      },
      "execution_count": null,
      "outputs": [
        {
          "output_type": "execute_result",
          "data": {
            "text/plain": [
              "Text(0.5, 1.0, 'Loss Valid')"
            ]
          },
          "metadata": {},
          "execution_count": 88
        },
        {
          "output_type": "display_data",
          "data": {
            "text/plain": [
              "<Figure size 432x288 with 1 Axes>"
            ],
            "image/png": "[encoded data removed]"
          },
          "metadata": {
            "needs_background": "light"
          }
        },
        {
          "output_type": "display_data",
          "data": {
            "text/plain": [
              "<Figure size 432x288 with 1 Axes>"
            ],
            "image/png": "[encoded data removed]"
          },
          "metadata": {
            "needs_background": "light"
          }
        }
      ]
    },
    {
      "cell_type": "code",
      "source": [
        "# Softmax Regression with Sklearn\n",
        "from sklearn.linear_model import LogisticRegression\n",
        "from sklearn.metrics import accuracy_score\n",
        "clf = LogisticRegression(C=1e5, \n",
        "        solver = 'lbfgs', multi_class = 'multinomial').fit(X_train, Y_train)\n",
        "print(f'Sklearn model accuracy: {clf.score(X_train,Y_train)}')\n",
        "print(f'Sklearn model accuracy: {clf.score(X_valid,Y_valid)}')\n"
      ],
      "metadata": {
        "id": "_5BB6UU4GA58",
        "colab": {
          "base_uri": "https://localhost:8080/"
        },
        "outputId": "1a70fd39-5258-4458-fe14-037e1ac1c07b"
      },
      "execution_count": null,
      "outputs": [
        {
          "output_type": "stream",
          "name": "stdout",
          "text": [
            "Sklearn model accuracy: 0.8855555555555555\n",
            "Sklearn model accuracy: 0.6333333333333333\n"
          ]
        }
      ]
    }
  ]
}