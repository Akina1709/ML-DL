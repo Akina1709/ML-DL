{
  "nbformat": 4,
  "nbformat_minor": 0,
  "metadata": {
    "colab": {
      "provenance": [],
      "toc_visible": true
    },
    "kernelspec": {
      "name": "python3",
      "display_name": "Python 3"
    },
    "language_info": {
      "name": "python"
    }
  },
  "cells": [
    {
      "cell_type": "code",
      "execution_count": null,
      "metadata": {
        "id": "uWb9Kbd8WtYc"
      },
      "outputs": [],
      "source": [
        "\"\"\"\n",
        "Ho va Ten: Bui Thi Thanh Xuan\n",
        "MSSV: 19110522\n",
        "\"\"\""
      ]
    },
    {
      "cell_type": "code",
      "source": [
        "#import library\n",
        "import numpy as np\n",
        "import pandas as pd\n",
        "import matplotlib.pyplot as plt\n",
        "from sklearn.linear_model import LinearRegression\n",
        "from sklearn.preprocessing import MinMaxScaler\n",
        "from sklearn import preprocessing"
      ],
      "metadata": {
        "id": "ohOMieWVXbn-"
      },
      "execution_count": null,
      "outputs": []
    },
    {
      "cell_type": "code",
      "source": [
        "df = pd.read_csv(\"https://raw.githubusercontent.com/huynhthanh98/ML/ML-2022/Lab02/House_Price_2.csv\")\n",
        "df.head()"
      ],
      "metadata": {
        "colab": {
          "base_uri": "https://localhost:8080/",
          "height": 206
        },
        "id": "A5VAlHgSXb-e",
        "outputId": "1ce893a7-66ca-4d6a-fc2e-762ea0e35706"
      },
      "execution_count": null,
      "outputs": [
        {
          "output_type": "execute_result",
          "data": {
            "text/plain": [
              "   width  length         price\n",
              "0     28      97  3.350184e+08\n",
              "1     21      62  2.298295e+08\n",
              "2     27      64  2.603552e+08\n",
              "3      5      92  2.064708e+08\n",
              "4     13      84  2.339808e+08"
            ],
            "text/html": [
              "\n",
              "  <div id=\"df-47aa6434-2a12-4349-89d9-5e2d4027047b\">\n",
              "    <div class=\"colab-df-container\">\n",
              "      <div>\n",
              "<style scoped>\n",
              "    .dataframe tbody tr th:only-of-type {\n",
              "        vertical-align: middle;\n",
              "    }\n",
              "\n",
              "    .dataframe tbody tr th {\n",
              "        vertical-align: top;\n",
              "    }\n",
              "\n",
              "    .dataframe thead th {\n",
              "        text-align: right;\n",
              "    }\n",
              "</style>\n",
              "<table border=\"1\" class=\"dataframe\">\n",
              "  <thead>\n",
              "    <tr style=\"text-align: right;\">\n",
              "      <th></th>\n",
              "      <th>width</th>\n",
              "      <th>length</th>\n",
              "      <th>price</th>\n",
              "    </tr>\n",
              "  </thead>\n",
              "  <tbody>\n",
              "    <tr>\n",
              "      <th>0</th>\n",
              "      <td>28</td>\n",
              "      <td>97</td>\n",
              "      <td>3.350184e+08</td>\n",
              "    </tr>\n",
              "    <tr>\n",
              "      <th>1</th>\n",
              "      <td>21</td>\n",
              "      <td>62</td>\n",
              "      <td>2.298295e+08</td>\n",
              "    </tr>\n",
              "    <tr>\n",
              "      <th>2</th>\n",
              "      <td>27</td>\n",
              "      <td>64</td>\n",
              "      <td>2.603552e+08</td>\n",
              "    </tr>\n",
              "    <tr>\n",
              "      <th>3</th>\n",
              "      <td>5</td>\n",
              "      <td>92</td>\n",
              "      <td>2.064708e+08</td>\n",
              "    </tr>\n",
              "    <tr>\n",
              "      <th>4</th>\n",
              "      <td>13</td>\n",
              "      <td>84</td>\n",
              "      <td>2.339808e+08</td>\n",
              "    </tr>\n",
              "  </tbody>\n",
              "</table>\n",
              "</div>\n",
              "      <button class=\"colab-df-convert\" onclick=\"convertToInteractive('df-47aa6434-2a12-4349-89d9-5e2d4027047b')\"\n",
              "              title=\"Convert this dataframe to an interactive table.\"\n",
              "              style=\"display:none;\">\n",
              "        \n",
              "  <svg xmlns=\"http://www.w3.org/2000/svg\" height=\"24px\"viewBox=\"0 0 24 24\"\n",
              "       width=\"24px\">\n",
              "    <path d=\"M0 0h24v24H0V0z\" fill=\"none\"/>\n",
              "    <path d=\"M18.56 5.44l.94 2.06.94-2.06 2.06-.94-2.06-.94-.94-2.06-.94 2.06-2.06.94zm-11 1L8.5 8.5l.94-2.06 2.06-.94-2.06-.94L8.5 2.5l-.94 2.06-2.06.94zm10 10l.94 2.06.94-2.06 2.06-.94-2.06-.94-.94-2.06-.94 2.06-2.06.94z\"/><path d=\"M17.41 7.96l-1.37-1.37c-.4-.4-.92-.59-1.43-.59-.52 0-1.04.2-1.43.59L10.3 9.45l-7.72 7.72c-.78.78-.78 2.05 0 2.83L4 21.41c.39.39.9.59 1.41.59.51 0 1.02-.2 1.41-.59l7.78-7.78 2.81-2.81c.8-.78.8-2.07 0-2.86zM5.41 20L4 18.59l7.72-7.72 1.47 1.35L5.41 20z\"/>\n",
              "  </svg>\n",
              "      </button>\n",
              "      \n",
              "  <style>\n",
              "    .colab-df-container {\n",
              "      display:flex;\n",
              "      flex-wrap:wrap;\n",
              "      gap: 12px;\n",
              "    }\n",
              "\n",
              "    .colab-df-convert {\n",
              "      background-color: #E8F0FE;\n",
              "      border: none;\n",
              "      border-radius: 50%;\n",
              "      cursor: pointer;\n",
              "      display: none;\n",
              "      fill: #1967D2;\n",
              "      height: 32px;\n",
              "      padding: 0 0 0 0;\n",
              "      width: 32px;\n",
              "    }\n",
              "\n",
              "    .colab-df-convert:hover {\n",
              "      background-color: #E2EBFA;\n",
              "      box-shadow: 0px 1px 2px rgba(60, 64, 67, 0.3), 0px 1px 3px 1px rgba(60, 64, 67, 0.15);\n",
              "      fill: #174EA6;\n",
              "    }\n",
              "\n",
              "    [theme=dark] .colab-df-convert {\n",
              "      background-color: #3B4455;\n",
              "      fill: #D2E3FC;\n",
              "    }\n",
              "\n",
              "    [theme=dark] .colab-df-convert:hover {\n",
              "      background-color: #434B5C;\n",
              "      box-shadow: 0px 1px 3px 1px rgba(0, 0, 0, 0.15);\n",
              "      filter: drop-shadow(0px 1px 2px rgba(0, 0, 0, 0.3));\n",
              "      fill: #FFFFFF;\n",
              "    }\n",
              "  </style>\n",
              "\n",
              "      <script>\n",
              "        const buttonEl =\n",
              "          document.querySelector('#df-47aa6434-2a12-4349-89d9-5e2d4027047b button.colab-df-convert');\n",
              "        buttonEl.style.display =\n",
              "          google.colab.kernel.accessAllowed ? 'block' : 'none';\n",
              "\n",
              "        async function convertToInteractive(key) {\n",
              "          const element = document.querySelector('#df-47aa6434-2a12-4349-89d9-5e2d4027047b');\n",
              "          const dataTable =\n",
              "            await google.colab.kernel.invokeFunction('convertToInteractive',\n",
              "                                                     [key], {});\n",
              "          if (!dataTable) return;\n",
              "\n",
              "          const docLinkHtml = 'Like what you see? Visit the ' +\n",
              "            '<a target=\"_blank\" href=https://colab.research.google.com/notebooks/data_table.ipynb>data table notebook</a>'\n",
              "            + ' to learn more about interactive tables.';\n",
              "          element.innerHTML = '';\n",
              "          dataTable['output_type'] = 'display_data';\n",
              "          await google.colab.output.renderOutput(dataTable, element);\n",
              "          const docLink = document.createElement('div');\n",
              "          docLink.innerHTML = docLinkHtml;\n",
              "          element.appendChild(docLink);\n",
              "        }\n",
              "      </script>\n",
              "    </div>\n",
              "  </div>\n",
              "  "
            ]
          },
          "metadata": {},
          "execution_count": 13
        }
      ]
    },
    {
      "cell_type": "code",
      "source": [
        "## trích chiều rộng thành một mảng numpy\n",
        "Width = df['width'].values        \n",
        "Width = Width.reshape(-1, 1)        ## chuyển thành ma trận cột\n",
        "print(Width.shape)\n",
        "\n",
        "## Trích chiều dài \n",
        "Length = df['length'].values  \n",
        "Length = Length.reshape(-1,1)\n",
        "print(Length.shape)\n",
        "\n",
        "\n",
        "## Trích giá tiền\n",
        "price = df['price'].values\n",
        "price = price.reshape(-1,1)\n",
        "print(price.shape)\n"
      ],
      "metadata": {
        "colab": {
          "base_uri": "https://localhost:8080/"
        },
        "id": "PNCbGSCOXcci",
        "outputId": "eae51d6e-8f0c-496e-dd14-585da5c1f4c1"
      },
      "execution_count": null,
      "outputs": [
        {
          "output_type": "stream",
          "name": "stdout",
          "text": [
            "(100, 1)\n",
            "(100, 1)\n",
            "(100, 1)\n"
          ]
        }
      ]
    },
    {
      "cell_type": "code",
      "source": [
        "## vẽ hình\n",
        "fig = plt.figure()\n",
        "ax = plt.axes(projection='3d')\n",
        "ax.scatter(Width,Length,price)\n",
        "ax.set_title('Size in feet squared')\n",
        "plt.show()"
      ],
      "metadata": {
        "colab": {
          "base_uri": "https://localhost:8080/",
          "height": 248
        },
        "id": "1l6yi85dXctD",
        "outputId": "e9b71068-b08a-4958-8cba-6b93b4afe99c"
      },
      "execution_count": null,
      "outputs": [
        {
          "output_type": "display_data",
          "data": {
            "text/plain": [
              "<Figure size 432x288 with 1 Axes>"
            ],
            "image/png": "[encoded data removed]"
          },
          "metadata": {
            "needs_background": "light"
          }
        }
      ]
    },
    {
      "cell_type": "code",
      "source": [
        "#Nối 2 cột chiều rộng (Width) và chiều dài (Length) lại và gán vào X\n",
        "X = np.concatenate([Width,Length], axis=-1) \n",
        "## thêm một cột vào sau X và gán vào Z\n",
        "Z = np.concatenate([X, np.ones((100,1))], axis=-1)"
      ],
      "metadata": {
        "id": "It1tOMlMXc-G"
      },
      "execution_count": null,
      "outputs": []
    },
    {
      "cell_type": "markdown",
      "source": [
        "# Gradient Descent giải Linear Regression:"
      ],
      "metadata": {
        "id": "bZpaH1vJyuSF"
      }
    },
    {
      "cell_type": "code",
      "source": [
        "def Gradient_descent(Z,y):\n",
        "    \n",
        "    '''\n",
        "        Hàm giải bài toán linear regression bằng gradient descent\n",
        "        ---------------------------\n",
        "        Tham số:\n",
        "            Z: là ma trận (100,3) chứa các features của bài toán + một cột bằng 1\n",
        "            y: label của bài toán (price)\n",
        "        ---------------------------\n",
        "        Trả về:\n",
        "            GD_theta: một vector chứa các tham số mô hình cần tối ưu (hệ số hồi quy)\n",
        "    '''\n",
        "\n",
        "    GD_theta = np.asarray([[1.0], [1.0],[100]])     ## khởi tạo theta\n",
        "\n",
        "    n_iter = 1000000           ## số vòng lặp cập nhật theta\n",
        "    lmda = 0.0001          ## learning rate\n",
        "    for i in range(n_iter):\n",
        "        error = y - np.matmul(Z, GD_theta)\n",
        "        GD_theta =  GD_theta - 2/Z.shape[0]*lmda*np.matmul(-Z.T, error)   ##cập nhật theta\n",
        "        if i % 100000 == 0:\n",
        "            loss = np.mean(np.square(y - np.matmul(Z, GD_theta)))\n",
        "            print(\"Loss at iter {}: {}\".format(i, loss))\n",
        "    loss = np.mean(np.square(y - np.matmul(Z,GD_theta)))\n",
        "    print(\"Final loss: \", loss)\n",
        "    print(\"Final theta: \", GD_theta)\n",
        "    return GD_theta"
      ],
      "metadata": {
        "id": "RakTLO-PXdwh"
      },
      "execution_count": null,
      "outputs": []
    },
    {
      "cell_type": "code",
      "source": [
        "GD_theta = Gradient_descent(Z,price)"
      ],
      "metadata": {
        "colab": {
          "base_uri": "https://localhost:8080/"
        },
        "id": "owE0a_MzD6CV",
        "outputId": "529565a4-b99f-471c-fd6f-b5423f0ada75"
      },
      "execution_count": null,
      "outputs": [
        {
          "output_type": "stream",
          "name": "stdout",
          "text": [
            "Loss at iter 0: 1932732010729863.0\n",
            "Loss at iter 100000: 8630577269238.074\n",
            "Loss at iter 200000: 8629350455086.722\n",
            "Loss at iter 300000: 8629316516196.379\n",
            "Loss at iter 400000: 8629315577302.515\n",
            "Loss at iter 500000: 8629315551328.722\n",
            "Loss at iter 600000: 8629315550610.169\n",
            "Loss at iter 700000: 8629315550590.312\n",
            "Loss at iter 800000: 8629315550589.746\n",
            "Loss at iter 900000: 8629315550589.747\n",
            "Final loss:  8629315550589.746\n",
            "Final theta:  [[4992438.83511508]\n",
            " [1997577.09732904]\n",
            " [ 844994.81432387]]\n"
          ]
        }
      ]
    },
    {
      "cell_type": "markdown",
      "source": [
        "**Exact** **solution**"
      ],
      "metadata": {
        "id": "QLATFWTafQ5r"
      }
    },
    {
      "cell_type": "code",
      "source": [
        "## exact solution\n",
        "Z = Z.astype(np.float64)       \n",
        "\n",
        "## giá trị a, b và c tìm được\n",
        "exact_theta = np.matmul(np.matmul(np.linalg.inv(np.matmul(Z.T,Z)), Z.T), price)\n",
        "print(exact_theta)\n",
        "print(exact_theta.shape)"
      ],
      "metadata": {
        "colab": {
          "base_uri": "https://localhost:8080/"
        },
        "id": "skl-_b2eGng7",
        "outputId": "e86589c4-b938-46f4-b481-d750a582a293"
      },
      "execution_count": null,
      "outputs": [
        {
          "output_type": "stream",
          "name": "stdout",
          "text": [
            "[[4992438.83485118]\n",
            " [1997577.09722778]\n",
            " [ 844994.82587483]]\n",
            "(3, 1)\n"
          ]
        }
      ]
    },
    {
      "cell_type": "markdown",
      "source": [
        "**Sklearn**"
      ],
      "metadata": {
        "id": "RCJzamJzIzH4"
      }
    },
    {
      "cell_type": "code",
      "source": [
        "## SkLearn\n",
        "regression = LinearRegression()\n",
        "regression.fit(X, price) ## train LinearRegression \n",
        "a,c = regression.coef_,regression.intercept_  \n",
        "sk_theta = np.array([[a[0][0]],[a[0][1]],[c[0]]]) ## lấy các tham số học được\n",
        "print(sk_theta)\n",
        "sk_theta.shape"
      ],
      "metadata": {
        "id": "Pa6Jof2qGnvU",
        "colab": {
          "base_uri": "https://localhost:8080/"
        },
        "outputId": "10d29a13-1ad8-4e8e-d26f-934d53e688eb"
      },
      "execution_count": null,
      "outputs": [
        {
          "output_type": "stream",
          "name": "stdout",
          "text": [
            "[[4992438.83485116]\n",
            " [1997577.09722778]\n",
            " [ 844994.82587495]]\n"
          ]
        },
        {
          "output_type": "execute_result",
          "data": {
            "text/plain": [
              "(3, 1)"
            ]
          },
          "metadata": {},
          "execution_count": 20
        }
      ]
    },
    {
      "cell_type": "markdown",
      "source": [
        "# So sánh kết quả (MSE) với Exact Solution và kết quả từ Sklearn"
      ],
      "metadata": {
        "id": "h_ekqXApImDW"
      }
    },
    {
      "cell_type": "code",
      "source": [
        "print(\"GD MSE: \", np.mean(np.square(price - Z.dot(GD_theta))))\n",
        "print(\"Exact SOl MSE: \", np.mean(np.square(price - Z.dot(exact_theta))))\n",
        "print(\"SK MSE: \", np.mean(np.square(price - Z.dot(sk_theta))))"
      ],
      "metadata": {
        "id": "tOpuESbOGoYZ",
        "colab": {
          "base_uri": "https://localhost:8080/"
        },
        "outputId": "9486ea42-0eaa-45f6-984e-8ae9b7937bdf"
      },
      "execution_count": null,
      "outputs": [
        {
          "output_type": "stream",
          "name": "stdout",
          "text": [
            "GD MSE:  8629315550589.746\n",
            "Exact SOl MSE:  8629315550589.733\n",
            "SK MSE:  8629315550589.731\n"
          ]
        }
      ]
    },
    {
      "cell_type": "markdown",
      "source": [
        "***Nhận xét:***  \n",
        "MSE của 2 phương pháp Gradient descent, Exact solution và sklean là tương đối giống nhau."
      ],
      "metadata": {
        "id": "OQXt4v-kJC0S"
      }
    }
  ]
}